{
 "cells": [
  {
   "cell_type": "markdown",
   "metadata": {},
   "source": [
    "# Finding Hidden Messages in DNA (Bioinformatics I)"
   ]
  },
  {
   "cell_type": "code",
   "execution_count": 288,
   "metadata": {},
   "outputs": [],
   "source": [
    "filename = '/Users/froux/Documents/Bioinformatics/Week1/dataset_2_10.txt'\n",
    "file = open(filename,'r')\n",
    "txt = file.read()\n",
    "txt = txt.splitlines()"
   ]
  },
  {
   "cell_type": "code",
   "execution_count": 289,
   "metadata": {},
   "outputs": [
    {
     "name": "stdout",
     "output_type": "stream",
     "text": [
      "['GAATATGCTCGAACTTGCTCCCCAGATAACCGCTTGTCTGAATATGCTCCCCAGATAACCCCAGATAACGAACTTGCTCCGCTTGTCTCGAACTTGCTTGACTGTAGTCCCCAGATAACGAACTTGCTTGACTGTAGTGAATATGCTCCGCTTGTCTTGACTGTAGTTGACTGTAGTCCGCTTGTCTCGAACTTGCTGAATATGCTGAATATGCTCCGCTTGTCTTGACTGTAGTCGAACTTGCTTGACTGTAGTTGACTGTAGTTGACTGTAGTCCGCTTGTCTCCCCAGATAAGAATATGCTGAATATGCTGAATATGCTCGAACTTGCTGAATATGCTCCGCTTGTCTGAATATGCTGAATATGCTCGAACTTGCTCCCCAGATAACCGCTTGTCTCCGCTTGTCTCCCCAGATAACGAACTTGCTCGAACTTGCTCCCCAGATAACCGCTTGTCTCCGCTTGTCTCCCCAGATAACCCCAGATAACGAACTTGCTTGACTGTAGTTGACTGTAGTCCGCTTGTCTTGACTGTAGTCCGCTTGTCTTGACTGTAGTCCGCTTGTCTCCCCAGATAACGAACTTGCTCCCCAGATAAGAATATGCTCGAACTTGCTCCCCAGATAACGAACTTGCTCCGCTTGTCTGAATATGCTCGAACTTGCTCCCCAGATAACGAACTTGCTGAATATGCTTGACTGTAGTTGACTGTAGTCGAACTTGCTTGACTGTAGTCCGCTTGTCTTGACTGTAGTCCCCAGATAACCGCTTGTCTGAATATGCTCGAACTTGCTCCCCAGATAACCCCAGATAATGACTGTAGTCCGCTTGTCTTGACTGTAGTCCGCTTGTCTGAATATGCTCGAACTTGCTCCGCTTGTCTTGACTGTAGTGAATATGCTCCGCTTGTCTCCGCTTGTCT', '13']\n"
     ]
    }
   ],
   "source": [
    "print(txt)"
   ]
  },
  {
   "cell_type": "code",
   "execution_count": 290,
   "metadata": {},
   "outputs": [],
   "source": [
    "def findPatterns(strInput,pattern):\n",
    "    cnt=0\n",
    "    n=len(pattern)\n",
    "    for i in range(len(strInput)-n+1):\n",
    "        strWin = strInput[i:i+n]\n",
    "        if (pattern in strWin):\n",
    "            cnt+=1\n",
    "    return cnt"
   ]
  },
  {
   "cell_type": "code",
   "execution_count": 291,
   "metadata": {},
   "outputs": [
    {
     "data": {
      "text/plain": [
       "4"
      ]
     },
     "execution_count": 291,
     "metadata": {},
     "output_type": "execute_result"
    }
   ],
   "source": [
    "findPatterns('GACGACGACGAC','GAC')"
   ]
  },
  {
   "cell_type": "code",
   "execution_count": 345,
   "metadata": {},
   "outputs": [],
   "source": [
    "def findFreqWords(strInput,k):\n",
    "    cnt=[]\n",
    "    fw=[]\n",
    "    m=0\n",
    "    for i in range(len(strInput)-k+1):\n",
    "        w=strInput[i:i+k]\n",
    "        tmp=findPatterns(strInput,w)\n",
    "        if (tmp >=m):\n",
    "            if (fw.count(w)==0):\n",
    "                fw.append(w)\n",
    "                cnt.append(tmp)\n",
    "                \n",
    "    m=max(cnt)\n",
    "    sel=[]\n",
    "    while (cnt.count(m)!=0):\n",
    "        ix=cnt.index(m)    \n",
    "        sel.append(fw[ix])\n",
    "        cnt.pop(ix)\n",
    "        fw.pop(ix)\n",
    "        \n",
    "    return(sel,m)"
   ]
  },
  {
   "cell_type": "code",
   "execution_count": 293,
   "metadata": {},
   "outputs": [
    {
     "data": {
      "text/plain": [
       "(['ACTAT'], 3)"
      ]
     },
     "execution_count": 293,
     "metadata": {},
     "output_type": "execute_result"
    }
   ],
   "source": [
    "findFreqWords('ACAACTATGCATACTATCGGGAACTATCCT',5)"
   ]
  },
  {
   "cell_type": "code",
   "execution_count": 294,
   "metadata": {},
   "outputs": [
    {
     "data": {
      "text/plain": [
       "(['ATA'], 3)"
      ]
     },
     "execution_count": 294,
     "metadata": {},
     "output_type": "execute_result"
    }
   ],
   "source": [
    "findFreqWords('CGATATATCCATAG',3)"
   ]
  },
  {
   "cell_type": "code",
   "execution_count": 295,
   "metadata": {},
   "outputs": [
    {
     "data": {
      "text/plain": [
       "(['GCAT', 'CATG'], 3)"
      ]
     },
     "execution_count": 295,
     "metadata": {},
     "output_type": "execute_result"
    }
   ],
   "source": [
    "findFreqWords('ACGTTGCATGTCGCATGATGCATGAGAGCT',4)"
   ]
  },
  {
   "cell_type": "code",
   "execution_count": 296,
   "metadata": {},
   "outputs": [
    {
     "data": {
      "text/plain": [
       "(['GCAT', 'CATG'], 3)"
      ]
     },
     "execution_count": 296,
     "metadata": {},
     "output_type": "execute_result"
    }
   ],
   "source": [
    "findFreqWords('ACGTTGCATGTCGCATGATGCATGAGAGCT',4)"
   ]
  },
  {
   "cell_type": "code",
   "execution_count": 297,
   "metadata": {},
   "outputs": [
    {
     "data": {
      "text/plain": [
       "(['CTCCCCAGATAAC'], 10)"
      ]
     },
     "execution_count": 297,
     "metadata": {},
     "output_type": "execute_result"
    }
   ],
   "source": [
    "findFreqWords(txt[0],int(txt[1]))"
   ]
  },
  {
   "cell_type": "code",
   "execution_count": 298,
   "metadata": {},
   "outputs": [],
   "source": [
    "def reverseComplementStr(inputStr):\n",
    "    rcs = ''\n",
    "    for s in inputStr:\n",
    "        if (s=='A'):\n",
    "            rcs=rcs+'T'\n",
    "        elif (s=='T'):\n",
    "            rcs=rcs+'A'\n",
    "        elif (s=='C'):\n",
    "            rcs=rcs+'G'\n",
    "        elif (s=='G'):\n",
    "            rcs=rcs+'C'\n",
    "    rcs = rcs\n",
    "    return rcs[::-1]"
   ]
  },
  {
   "cell_type": "code",
   "execution_count": 299,
   "metadata": {},
   "outputs": [
    {
     "data": {
      "text/plain": [
       "True"
      ]
     },
     "execution_count": 299,
     "metadata": {},
     "output_type": "execute_result"
    }
   ],
   "source": [
    "reverseComplementStr('AAAACCCGGT') == 'ACCGGGTTTT'"
   ]
  },
  {
   "cell_type": "code",
   "execution_count": 300,
   "metadata": {},
   "outputs": [
    {
     "data": {
      "text/plain": [
       "True"
      ]
     },
     "execution_count": 300,
     "metadata": {},
     "output_type": "execute_result"
    }
   ],
   "source": [
    "reverseComplementStr('ACACAC') == 'GTGTGT'"
   ]
  },
  {
   "cell_type": "code",
   "execution_count": 301,
   "metadata": {},
   "outputs": [],
   "source": [
    "filename = '/Users/froux/Documents/Bioinformatics/Week1/dataset_3_2.txt'\n",
    "file = open(filename,'r')\n",
    "txt = file.read()\n",
    "txt = txt.splitlines()"
   ]
  },
  {
   "cell_type": "code",
   "execution_count": 302,
   "metadata": {},
   "outputs": [],
   "source": [
    "rcs=reverseComplementStr(txt[0]) "
   ]
  },
  {
   "cell_type": "code",
   "execution_count": 303,
   "metadata": {},
   "outputs": [
    {
     "name": "stdout",
     "output_type": "stream",
     "text": [
      "GGCACCCGGCGTATTCTAAATGGAGCGCCCAGGGGAAAGGGTGGTAACTAAGCGAACGAGGAGAAAACAAAGGCACTTCGCACATATTTCGAGATTACACGGCGGCTGGTTGATTGAAGATATTTGAGAGGCCATCATCTACCTGATTTTAGTATCACTTAGGCAGATCCCGGGGACTTCTCTCGAGCCAACCGGAAGGTTACAACGAAAGTGCATGGCAAGGGGAGACCCTTATTGCTGCCTAACGCTGATTGCAGACCAACAAACTAACTAGGTACAGGGGCTCTCGAAAGGACCGACGATTGCCAGTTACATAGCAGTAGGTATAAAAACTAGTCGGGTGCTCAGTTAGGCGGACACTAACACGGGCAAGGCCGGGTGAGGTGCTTTCAATTCATATAAAGATGGCTTAAATACGACATTACTTATGAGTCCTTCTTTGAGCTTGCGAGGTGTGACGCAAGATGCGAGAAAGTCGCCACACTGGCATTTCCAGACGTTAAGCCAGCGGCGCCCTATCAACGTCTAGCATAGCCACCTACGGCGTGGCTCTCTGCTTAGGTTCGGATCGGGCCTGCGCTTCCAGAGGTGCGAATCAGGAGTCCCTAAAGCAGGTGTCAAATAAGGAGGAGCCCGTGTGAAGCAAGTCGCATAGCGGTGCCGCGAGGGGACCACGAGGACGGACAGCCCCGCCATTTGGGAAGAGGCCCAACCTAACTTCTAGACTGTTGTTGTGAGGTTCTGCCTGAATATGAGGGGCGTTTAGACAAAGTGCAATCAGTCTCTGGGAAACAACCGTTGATGTTTTTAATTGCAGAGAGCGATCGAATGCTCGGAACTCCCCATCTTTCTCTATGGAGCTAATTCTGTCGAATAAAGAGCTTCTTGGCGGGTACTGGGGCGGAACCACTAAATCGACCAAACCTCCGTTGAACAGAACGAGCTTAATTTCCCTGCTTAAGCGCTTAAAACAGATAAAGGTATTTGTATACTGGGGTGACCTCTACCTTTGGCTGAAGAAGCCGTGTGGCTGGTACCAGACCCTATTCGTCACTCGATTGACTAGGCACTCTGTTACGCATCTCCAACTACCAGAGGCCCCGCGAAGGCAACGATCGCTGTTCCTAAAAAGTCATCCGCAAACCCGCATGATCCGGGTCTTTAAAATATCAAATGAACATACTGTCCGACAAATCCAGGAGGGACCTTCACAAAACACAAGGGCGTAGGCTCATTTGCGAATCTTTCCATCCAGGGACCCTGACTCCACTAAGAACTGTATTCCCCCACGTGCTCGCGGGCTTTTTTGCTGGGGGCGATTCGATCCACAATCTTTCTTATTGATGGAACCAGTTAGCGAGATGCCCTGATGCCTGGCCGTAATCGTCGTGGCGGCCACTAGCTCAATTAGACCAGCATCAGCCAAATCGTAGGTTGCGGGCTGACCATCAAACAATTCAGGAATCTTACAAGAACTGCGCGAATTCAATTGCTAAAGACTTAAGCCCTGCGAGGGCACCTCCCTTAAAAGTCTTCTACCGGGGACTCGCCTATCTCCCTAGACCTGCGGGTTAAGCGTTAGGTCTAACATATGCCGAATGGTTGGCTGGCCCTAAACGCGGTAGATCCAGTGCCGGGTACAACCGTTTGCGCGGATATCAAGACTTAATAATGCCGAAAGATGATGCAGACGCAGAACTCCAGCAAAGCCCCTTGGAAGGCGAATCATTACAAACAGTCAAAGTCTGGTAAGGTATTTGGCCTTGACCAGAACCAAAATGTAGTAAAGGCCTCGACCAACAAATGACCGTCTCTAGTTCATTGATCGTGTTCATTGCCGGTCTGCAAGATTCACACATTCACATGCCTACGACGACAAGAGATTACGGGTGCTTCCCGAGGTGTGTGTGCTACGGCGGCTCCGCCTCAGCAGTGAAGTTTGGTCGAAGTCCTCCGGTTTGGTGATCGGGCCAAACAGACGGACACTACGACAAATATAGTTCGACTGAGGCAGCATTTTATCTATGATGCTTGGGCCAGTCATGCAGACCCGGATGGAACTGAACCGGCCGATGCCTTGGAGCAAAATCTTTGCTACAAGCCGTGGTAACCGATGGGAGCAATCTAGGTACTTACCAACGTATTGCCGGGAAGCTCTGCGGGTCTCCTGCAACGGCTATTCTATATCCAACCGTTTGCTACCCGTGTCCCTCGCCAGTACAAATTAAGTCAGTGACCCCTATTATCAAACCTTACAATGATCGTCTAGAGAATTAATGAATTACGGAGACCATCAACCTAGCAAATAACTTATCAGAATTAACTACCTCGTAGCTTCGACATCCAAAGCAACCCGGAGGCTGGAGTGTCCGTGGCGAGTCAGAAAAGGGACATGCGACTTAAGGTCTTCAACCTTGGACCTAAGCCATAAAGCATAATTTAGTCACCGCCGTCTGGACTCGAAACTATAGACGCTGTGCATCTACTGTCCTCCAGCGCTATTACATAACTGTAGAAGCCTCCGGGTACGCTGCTTTGTATGTATCGTGGTGTTCCAGCGGGCGTGCGTCTTTGAATAAGTATTATCGAGGCGGCCAAGCCATCAAACACACCGTCCATGAGTTTAGGTCTCAATTTGCAGCACATGCCTCCGCTTGCCTTACGCGGCGTTAAGAAACCTGTCTAAACTCCTTTCATATTCGTCACGGCACCTGTTTGGCCTTCGCATATTACGATAAACGTCATTCCTCTTCTGGTCGATGGCGGAGGGGTGCATCACATGGCAGTTCCGATGACACGATGAGGCAATGCTACTCAAAGTGATGATTCTACTGGGAACGCGACGGGACTTTAGCCAACTATACGGTCCCATGAATATGCATGGGGTTCGACCTCGCACTGTCGGACCTACACTCTGGAGGAGCAGATAGGAGAAGAGTCGCACCTAAATTGTGCAGTGTACGGTGACCTATGGGAGTGCTGGTTGTTTGCGAGGTGATTCTCTTATCCCAACCAGTAGGGGGAACCAGTGCATCAGCAAAGCGCAGCATTCTGTCATTAGCCTCGTTTTAATTTGCATTCCACAGTTGAAATTTAGCGTTGACGCTTAGATGTAATCCACTATACAGGGGTCTATACGTCCACTTGCTAGACTAAAGGAGCGTAGTGATTTGCTACACGGGTTTGCTTATCGTTTGCCGGTTGGTGGTATGCTCGCACAACTATCAGTTAACTCGAGGAAATACGAAATTACGCAGGGTGCACTAATCTGCTCTTTTGTGCAGTCTCTTCTAACGCGGAAGTGTTGAGGGCTACGCAAATAACAATTTCCGCACGTTAAGTATTGTGGTACAACTTCTATTTGGCGTTTATGATATTACTTATCTTGGGTTTCTGGTAACGGGGTGCTAGAGCCGCAAAGTACTTGTGACTGGTTCGTCAATCCTGTATGTCACTGAGACTTTGCCATATTCCACTGCTCCTCCTGTGAGCTCCGGGCATCACGGGCGAACTGTTAGTGATCTGCATCGTGACATAGTAACTCGAACGCTAGATAGATTCGGCCGACTAGTAGATTACTTGAAGGCCAGTAGTACAAGTTGTGTGTGATACAACGGCAGAGTACGACATCATTTATCCCACGAGGCGTCCCTCTACTTATGTTCTGGGTGTACATCCACGTTGTACGGCACGTTAATCCCCCCGTAAGATCGCCATACGTTCAAGGGTGGATTGACCAATCGGAATGTATGGTACCATATCCTTTAGGCCATAATCAGTCTCCACTAACTTTTTCAAATCGCCTGATAGTCTAACAGACTACTCTTACCGCTCTGGTGCCCGGCCGTGACTGAAACAGTAACGGAAGTTCTGGCTGACTTGCAATGTGAGCTCGTCGATATATTGGAGTATTGCGTATCTCTAGTTGCCCCTGTAAATAACGTCGGTACGTTGGTTGCTCGCGGGGGTGTGCGCGAAGGGTGTGTCGTGTACTCAACTCTCAATAACGGGGCATAGTAGTGGTGGTCGGGCATTTCTGATGTCAGCTCCTTGGGTATCGAATCTGGACAACATGTTTTCTCACTGCGATAATAACTATGTGTAAGGTGAGGTCAGCGGTCCTAGTCTAGAGCCCAAACGTGACGAGTCTCTTGTAACCCTAGTGTTTCCGGACAATGGGTTTTGACCGATAATCTTTCTGAATACCGCTGGAGATTACGATTAGTCTCATAGTTTTGGGTCCCACGGCTTGCCCTGCCGTAGCCACTGGTATCGGGCGCATAAAGAACGCTCCGCGTAGAGTTTGGCGGATGCTGACGCTGGTGGTTAAAGCCAAAGTAGTTCTCCCACAGCGGACAGTGTGCTGTGCTCTGACCATCCTATCAGCAATTGTAGTTTTGGAGTACTGTAACAGCCATATTCTTACCGTCAGGCAACAGCAACTTTGTCAACATCGATATTATTACTTGCTCCTTGTCGCCGTCACGCATCCCGAGACACTATAGATTTCATGGGTACAACTCGACATCTAACCAAGAGCCTGCATTGTCGAATAGAATTACATTTTGCGAGACGCTGCGGAGGCTGGGAAACGCACTTGTTAACAGCTCACTCTTTACACCGTGATATTGCGGCTTTGGCGCTGTACGGTAAAAATGGGAAAACACATACGATGAAATTCCGTTGTGATATTCCGCTGCTCGTATTGCCTGACTGTGAGCATGGAGCAAGTACTCGGCGATTGCCGTCCGCTCTCTCCTGGACGCCCTGCGCGTTGCATACGCCTTATTAGGCTTGCCTTTCCGTTTTAAGGAACTGGAAAATCTACCCTCCAAAAGACAGCTGGATAACGATTTGATACCCCATGACATCAGTTAGCATTGACGTCGGGCTAACTCAGCTCCCGCACCACTCACCTAAGTACATATTTGATGTTTTAAAATGAACACCATGTCCGTTTTGTAGCAGTACAGACCGTCACCCCGACCAAAGTTAGACTTAGCGTGGTTATGGGAAGGATTGCGAATGGGTGGAAGGGTTCCTAGACAGCTTGGCCTATCCTGACCAGCTTCGGGTATTTGAGCATGCTACAGCTAACAAACCTGGGGATTACTCTAAGGACTTCATTTACGTCTTACGGGAGCAGTGAGACAAATACTTGAGTACTGGTCCTCAAACCAACCATACGCGCCCTTAGTCGGCATTTACTTTTCCCGATAGCCACCCTGTGTTAGCAACGATACTGTTCGATCCTAACCCGAGGATTCCTAACATCAGGGCCCGGGGCTGAGTGCAGAGCAGTCCAGAAGGTGCATAGCTGGTAATAACCTCGGTAGGTGTTAGCCATAATAAGATACCTAGTTCAACAATAGGGGACCTAGGATGGTTAACAGACGCACTGGAGACCAAATAAGATTAGATTGTAATCATCCCGGCTATCCCAACGGATTTCGTGCACGGGTACGGGTCGCCGCTAATCACGGGCTTGGGACAGGTACGCCAGTATCTTGCTCCCGATACGTTCGCTCGGATCGCACCACTCTTATACCATAATCACCAGATCAGTAGGAGCGTTTACTGGAGCACCGTCACTCGACCGGCGCCAAAGCGCCCGTTTTCCGAGATCATGTTAATTTCTTCATTCCACTACGCATTCGTCTCTAACTTCACGGATTTGTGGGGCCCCTCTATGACAGCGAAAGCAGTACCCCCTCCGGACAGTAGATCGCTATGCTCATATCCGTAGCACGAAGACAAATAAGCGTGAGACCATTCATTCACTGAACCTACCCTGGAATAACAACGTACGCAACTACTACAGGGCAGCGCTAGTGGCAAGGATTTCGCAAATTTTTTACTCGCTTCGGGACTCTCTGTTCCGGCTAGGCGATAGGTAAAATCTATAAAGATACTCCTGAGAGTCAGGACCTGCACTTGGGCGCGTGGCAGACTACGGTCCCCTTATAAGGAATGTGAGGAGTGCCATAACCACTTCAGTCTATTTGCCGCAACAGTCAGTTTTGAAGGTTCAAACAATACTCACCCGCACCACTCAAAGACCCCATTTCCAACAGCTGAATAATTTATCGGCCTCGCCCAAGCCTATATCGGGCCCTCCCATGAAGCACGGTACTCAATTCCAATGTCAATGGAGGACATGGTACTACCCGCGGTAGGCTTATACAGATTAGCAGGTTCCTATTCCTTACAACTGGCTCGTCAAACCCGCTGCTTTGTCGTGTGCATTCTGCTATGTGACACATTCAGTAGAGAACACTGCTCCTCGCTATGAGATCCCGCTTTTATCAAATTCTGTATACGTCGTAGTGAATCAGCCGGCAATTGTAGTAGTATCATTCTCTTCGTGCTCAACGTTTCCTCTTTGGATACGTGAATGACTACACTTTCGAGACGCATATACTGCTTCTTCTACGGCGCGATTCCGCAAGACTGCGCGCCTAGAGCCTCGGTGGACGTCTGCTCCCGTTCTGTAACATTAAGGCGCGCTGCGAGTGACTTCAGGTTGTGAGGATTTCATTGGCCGGATGTCGTTGCACGAGAACTTCACGAGCTGTACCGAAACGACCACTTGTTGCGGTATAGGGCTTCCTAAGCTTTACGATGTGTTTCTCCCTTCCCGCGGAGCCACCAACCCATTTCAACTTGGGTCCACATGATCACGATCATTGGGAAATCATCTTTGTGGGGGCTGAGCACGAAGGTGCAGCTTGCCGAGTCCTAGCTCGACTACCGGGAGGGCCCCTACGGCGGCTCCATGATTGGCAGTCGATCCACTTTAAAATTTAATCCTTAAGGAGCGATTTAGCTTAGGTTAGCTTTGAATGAGCGGTCACAAGTGGCACGCCAAGAGCCTGGTGAGTGGTACAATAAAGGCGCGCTACGCTCTTTACCGAAATTATTTAGAACGTTTTAGAGATTGTTCCGCTAAGACATTCGAACTTAAGCTGATCAAAATAAACCAGATTCATGATGATGCCGGACTTAAACGTTGAGGGCCAGCAAATCTTGGGCCTCTACGCGTCGTCCGTTCGTAAAGGGAATTTATGTTGGTACCCGTATCGACACTCACTTAAGTAACACTACATATACTAAGGACCAAAATTTTTTGCCCCGATTTAGGAGTTCGTAAGAGCCGAAGTTTTTTGCACAGCGCGCTGATGACCTCAACTGGCACGAGCGATTGCGCCCTCGGGTCGCTCTATACTCGTATGCAGCAGAAGTGCACACCTTCCTCGATTCAAACTAAGATATCTATTTAAGGCATTGAACACACTTTAGCTAGGGACCCCTGCGCATCGGGTTGGAAATCTGGCTGGTCTAGAGCTCAGCCTGCGTGCAGTAATCAACTAAGGCGTGCCTTAAATGAGGCCCTCACGGGGCGGGTTATCTAAGGATGAGTCTCCTAGTAGCAAAACGTAGCACTTTCGGCGAATACCTAAATAAGCCCACGGTGGAGTGAAATTTGAAGACGTCGAATTCCCCACTTTAGCGACAACTGGTCCCGTTAACATGGGAAGGTAAATCTCGGCCGACCGTGCGAGGCCCCTCCGACTTAGTCACCCTGGAGTGCTTGTTATATGTTTAGCTTGAAAGGGTGGCCACCTTGTCTAGGAGTAGGGTTGCGTTACACTATGGCCCGTCGTATCCTCCCGGACGCATCTCGGCCCAGCGGCTGCTAGATACCGGTCATTACGGTGCTTGCAGGCACGGCCGCTGAGGAGAATGTGGGACTGACGGCTCACGACCAGGGTAACAACAATTAGCAGCCTCAATATTGTGTGATCAGATTTTATTAGACTACATTGGGCCAATTCAGGCTCCTTAAAAGTAAGGGTCTAGGTCATATGTCTGGTCTCTCCATAGGCTTCCGAATGCGCATGTCCTAAATTCGACTATCCGTAATTAGGCCTTTCTGCTTGCCGTGATTACTCGGGAACTCTTACCGACCCTAGAAACTAGGCTGTGCCCTAGGTTAGCAACTAGCACTTTGAACGCGCTGAATGACGCGAGGGTGATTAAATCGCGTGAGGATCAAACCAGTTATGTTTTTTATCGTATAAGGGTAGCGTTTCTCTGCAACTTCGTTTGGAGTGCTTAGGTAGTAAACTAAATCTGACACTATTTTAACCCATCAAGCACCACCTGCGGGCAGCCGGATGCAAGCTATAGAACTCCCATTGACAACGGTATTTACGGAGGACATTTCCCAATTGAGATGCAATTTGGGTTGTGGAGAGCGTCCTTATACTGCCACTACCACTGTGAAGACCTAGGTGTACATTAAGCGTCCTGCGGACCTTCATGAATGATTGTTGTCACAATGCTCAACTTTACTCATATTCTTAACCGTGGTTTTAAGACATACGAACTCACGGGGCCTGCACTTGCAAGACAGGAGATTGGTAGTGCTGGCACTCTGCATGAAACTCTAGACTTCTTTGGGCACGAGACAACGCATCTAGATGAATTCCGTTTCAAACCCAAAATACACTATCACAACCAAGCCACTAAAGCACTTTCGCGCCAACTAAAAAGGGTGCTTCGAAGGGCGAAACAGCATGTCGCTGAAATCTCCAGAATCTCATGTGTCGCACAATACCAGGGCGCCAGTGTATATAAACAACAGTCCCACCCCAAAACGTTTCTTACAGAAACAAGTTACTGTAAATACCGGAGTTTATCATGCCCGTCCAAGCTAAAGTAATAGCGGGCAACGTTTATATGGGGGGGAACGGATCACGCTCTGTCAACTCAAAAATGGTTGGGAGCCCACGCGCGGGACCTGGCCAAGAATATATTGTAGTGTCGAGACGGTGTCAATTTTGTTAAGCCAAGACTCAAGGGCTAATAACTGAGCATTTCAGAAGTCTACTGGTTGGCTCTAGTGTCGCGAATCTGGCTTTCTGATTTATACTCGATTCCTGCCGAAATAATGAAAATCGTCCCTCTCGATAAGAAACTAAGGTGTCCGGACAGAGAGGCATTCTGGTGGTTGGATAACGTCATACATTCCGAGATTACAACCGTCAATAGCTTCATTCATCTAGCACTGGGCAAATGGGCACAGTGACGCGAAACACGTTTCCGGTCACCGGCAGTATGTAGAGTCTTCGTGTTGTACATACCCATTGGACGGGTTCATGTTTATTTTACAATTTACCGGGCAGACATTCCTAGGCCCCGTTCTGATACTCAGGTAAAGAACTGGTCGTATAGCTCCGAGATTTGTCCCATGGTGCTACAGCTCAGCGGATCTATGAAACACCCCGGCGATGAGCTTACATTGCCAGCAGAATCAGACTTTGTATGACGATAAATCTACACAGCAAACTGTGTACCAGAGACTCTTCTTGTTTAAGGACGGACTTGTCACCCTGAGCTAACTGGGCTTCAGCGAACCAGTAAATCTTGTGAGTTAAACTTCTCCTCTAGGCAGACTAGTGCGGCGGCGGACACATCTTCGTCGTTAGGTACGCCCTTTGAGCTGAACGGGAGGTGGAGGCCGAACAACTTAGCCACCTACGTGACAGTGGTGTGTCTTACTCAGTGGCACCTGCAGCAACCTTGGCGAAATCCAATGTACTCCCTACCTTGTATTGGCAAAGTTGCGTTACTGCACCGTTCTCGCTAACTCTACGGGAGCTTATAAATGTTTATGTATCGTGTCAGTAATGCTATCAATTACGCCTATCCTCATGCGGCCTCCCGTATCACTACCGGCAGACAGTTATAGGCCATTAGCAGAACAGCAGCCAATCACTACCGGTTTTTCCAAGGTGCGTGGTACACCAGCGCCCTTAGTACTATGGGAGCCTTGGCCAAGCTCGAAGATAAAGTACCCCGATTATAACGCCGCTTTTAAAGCCTAGAATCTGGGCTCGCTTCTTTGATGTGGATACTCGGGTAGGATGAAGGTCTACGAGACCTGACACGCGCAACAGCGCATGCTGGCTATGTAAATGACAACGTCAGAAGTAC\n"
     ]
    }
   ],
   "source": [
    "print(rcs)"
   ]
  },
  {
   "cell_type": "code",
   "execution_count": 304,
   "metadata": {},
   "outputs": [],
   "source": [
    "def findPatternIdx(pattern,strDat):\n",
    "    ix = []\n",
    "    n = len(pattern)\n",
    "    for i in range(len(strDat)-n+1):\n",
    "        strWin = strDat[i:i+n]\n",
    "        if (pattern in strWin):\n",
    "            ix.append(i)\n",
    "    return ix"
   ]
  },
  {
   "cell_type": "code",
   "execution_count": 305,
   "metadata": {},
   "outputs": [
    {
     "data": {
      "text/plain": [
       "[1, 3, 9]"
      ]
     },
     "execution_count": 305,
     "metadata": {},
     "output_type": "execute_result"
    }
   ],
   "source": [
    "findPatternIdx('ATAT','GATATATGCATATACTT')"
   ]
  },
  {
   "cell_type": "code",
   "execution_count": 306,
   "metadata": {},
   "outputs": [],
   "source": [
    "filename = '/Users/froux/Documents/Bioinformatics/Week1/dataset_3_5.txt'\n",
    "file = open(filename,'r')\n",
    "txt = file.read()\n",
    "txt = txt.splitlines()"
   ]
  },
  {
   "cell_type": "code",
   "execution_count": 307,
   "metadata": {},
   "outputs": [],
   "source": [
    "out = findPatternIdx(txt[0],txt[1])"
   ]
  },
  {
   "cell_type": "code",
   "execution_count": 308,
   "metadata": {},
   "outputs": [],
   "source": [
    "out=str(out).replace(',',' ')"
   ]
  },
  {
   "cell_type": "code",
   "execution_count": 309,
   "metadata": {},
   "outputs": [
    {
     "name": "stdout",
     "output_type": "stream",
     "text": [
      "[58  65  72  87  94  102  119  171  178  196  203  262  332  339  366  407  414  429  436  443  450  506  525  663  670  677  701  709  716  725  732  763  805  822  845  896  916  951  1016  1038  1046  1064  1071  1089  1135  1151  1187  1220  1247  1341  1406  1421  1428  1509  1528  1559  1590  1614  1640  1647  1699  1706  1761  1793  1887  1894  1936  1969  1984  1995  2011  2026  2068  2075  2095  2125  2141  2156  2163  2211  2265  2280  2323  2415  2433  2440  2447  2501  2535  2640  2648  2656  2688  2759  2803  2843  2860  2876  2897  2967  3013  3092  3116  3132  3187  3195  3225  3232  3262  3269  3276  3294  3301  3308  3356  3383  3422  3441  3448  3486  3502  3509  3600  3628  3674  3681  3688  3778  3815  3832  3847  3866  3882  3915  3937  3962  4013  4034  4042  4154  4223  4245  4298  4342  4451  4485  4492  4548  4556  4563  4570  4621  4628  4658  4674  4681  4718  4745  4752  4759  4780  4832  4839  4858  4883  4895  4961  5002  5020  5027  5082  5124  5169  5219  5256  5284  5348  5355  5373  5414  5423  5488  5505  5534  5541  5548  5580  5587  5603  5610  5627  5645  5716  5723  5738  5778  5785  5812  5820  5847  5862  5950  6033  6059  6092  6135  6194  6244  6354  6361  6403  6431  6438  6483  6490  6510  6607  6618  6670  6686  6724  6741  6807  6814  6822  6842  6849  6865  6888  6903  6924  6999  7007  7025  7081  7125  7153  7164  7228  7235  7279  7309  7341  7349  7356  7438  7453  7506  7526  7533  7561  7568  7602  7609  7617  7648  7812  7819  7841  7856  7863  7921  7984  8012  8026  8034  8041  8048  8079  8087  8094  8151  8158  8182  8209  8238  8274  8281  8288  8322  8348  8382  8403  8448  8484  8491  8507  8548  8625  8632  8656  8663  8670  8677  8694  8714  8721  8751  8759  8775  8782  8797  8833  8872  8879  8886  8904  8941  8971]\n"
     ]
    }
   ],
   "source": [
    "print(out)"
   ]
  },
  {
   "cell_type": "code",
   "execution_count": 310,
   "metadata": {},
   "outputs": [],
   "source": [
    "filename = '/Users/froux/Documents/Bioinformatics/Week1/Vibrio_cholerae.txt'\n",
    "file = open(filename,'r')\n",
    "txt = file.read()\n",
    "txt = txt.splitlines()"
   ]
  },
  {
   "cell_type": "code",
   "execution_count": 311,
   "metadata": {},
   "outputs": [],
   "source": [
    "out = findPatternIdx('CTTGATCAT',txt[0])"
   ]
  },
  {
   "cell_type": "code",
   "execution_count": 312,
   "metadata": {},
   "outputs": [],
   "source": [
    "out=str(out).replace(',','')"
   ]
  },
  {
   "cell_type": "code",
   "execution_count": 313,
   "metadata": {},
   "outputs": [
    {
     "name": "stdout",
     "output_type": "stream",
     "text": [
      "[60039 98409 129189 152283 152354 152411 163207 197028 200160 357976 376771 392723 532935 600085 622755 1065555]\n"
     ]
    }
   ],
   "source": [
    "print(out)"
   ]
  },
  {
   "cell_type": "code",
   "execution_count": 314,
   "metadata": {},
   "outputs": [],
   "source": [
    "out = findPatternIdx('ATGATCAAG',txt[0])"
   ]
  },
  {
   "cell_type": "code",
   "execution_count": 315,
   "metadata": {},
   "outputs": [],
   "source": [
    "out=str(out).replace(',','')"
   ]
  },
  {
   "cell_type": "code",
   "execution_count": 316,
   "metadata": {},
   "outputs": [
    {
     "name": "stdout",
     "output_type": "stream",
     "text": [
      "[116556 149355 151913 152013 152394 186189 194276 200076 224527 307692 479770 610980 653338 679985 768828 878903 985368]\n"
     ]
    }
   ],
   "source": [
    "print(out)"
   ]
  },
  {
   "cell_type": "code",
   "execution_count": 358,
   "metadata": {},
   "outputs": [],
   "source": [
    "def findClumps(strInput,k,L,t):\n",
    "    c = []\n",
    "    for i in range(len(strInput)-L+1):\n",
    "        subStr = strInput[i:i+L]\n",
    "        out = findFreqWords(subStr,k)\n",
    "        if (out[1]>=t):\n",
    "            for x in out[0]:\n",
    "                if (c.count(x)==0):\n",
    "                    c.append(x)\n",
    "    return c"
   ]
  },
  {
   "cell_type": "code",
   "execution_count": 359,
   "metadata": {},
   "outputs": [],
   "source": [
    "txt='CGGACTCGACAGATGTGAAGAACGACAATGTGAAGACTCGACACGACAGAGTGAAGAGAAGAGGAAACATTGTAA'"
   ]
  },
  {
   "cell_type": "code",
   "execution_count": 360,
   "metadata": {},
   "outputs": [
    {
     "data": {
      "text/plain": [
       "['CGACA', 'GAAGA']"
      ]
     },
     "execution_count": 360,
     "metadata": {},
     "output_type": "execute_result"
    }
   ],
   "source": [
    "findClumps(txt,5,50,4)"
   ]
  },
  {
   "cell_type": "code",
   "execution_count": 361,
   "metadata": {},
   "outputs": [],
   "source": [
    "filename = '/Users/froux/Documents/Bioinformatics/Week1/dataset_4_5.txt'\n",
    "file = open(filename,'r')\n",
    "txt = file.read()\n",
    "txt = txt.splitlines()"
   ]
  },
  {
   "cell_type": "code",
   "execution_count": 362,
   "metadata": {},
   "outputs": [
    {
     "name": "stdout",
     "output_type": "stream",
     "text": [
      "['CAGTAACGTTAGGGGTCAGTAGAGCTACTCCTGCCTGCGCGTTCGTCTGCGCGTCGACAGTGTAGCAATATCGGGAAAATTAATGGTTTATGTAAAATATGTAAAAATCCTTCTTACCCGGCACTGGTTACTGTGTCCTGGTTGGGAATACGCTTAGGTAGCCTCTCGGTAATAGAGAACAGACCCCGAGGTGTCACGCCCAATTCTGCGTACACCGTTTAACCCCTGCCCGTTCCGGGAGAAGGCTTCACGGTGTGGTATCTCGCATACACGGATCCCACTTTAAGTTCCTAGAGAGCCAAAGGCATGGACACCTCTCAGGACAGACATTACTCATATTCGGACCGAGAGCGAGCGTGTCGGATTGCTGGTGTCTTGCTCGTTGCCAAGCAAGAATCGCCAAGGCTGGCAAGTCCGAAGCAAGTCCGAGTCCGTATTCGGCCTTGATGCAAACGCTGGTGATAGATAGGACTACTGCGCATACTTTTCAAACGTCGGCAGGCAAGCATCTCCCCTCTCGATGGGGCCTACCTCGGGTACTTAATTTGCGAATCCGTCGGTCCGTCGGTTTCTTGTTACCAAAAATAACCTAGCTATGCAGTGCGTTATGCGGGCTTGAGATGACCCTCCAATCGCTTCGGAGATCGCCTTTCATTAAGCCATGATAAGTTCATCGTAGTTCGATGTACCAAACTATTCCGTCAGTGGATTCCTACTGGGCCGCCGCCCCCCCGCCGCCGCCCCCCCGACCCGGATGACCTTAATGGCGTCCGGGCCCGTATTGGGTCAACGCCTTCTACCAAGAGATGACGCTTTTTGGCTAATACCCCCGCTAAATCGTAAGGCCAGAAAAAGCCCAGAAACAGTTTATCCCTGCGTTTTCCGCCTATCAGTAAACGTTCCCATCATGTTATCCCTCTCCGCTCGATTACCGCTCCGGTACGACTTAATGATTCAAGATGCACGATCAAGCTACATCAAGGTCTTGGCACCGAATTGCTACGACTACATTTTACGAACATGGTGACAAAATTTGAACTACTACTCTAAGTTTCTATGATTGAACACTATACTACTCTACACTCAAAAGTACCCTGGGGCAGTGCATGTGATGTGCATGCATGTGATGTGACGGCTGAATTCAAACGTGTCCCATATACAATCCGTGGAGAGACCGCCCACCGCCCGACTGTTCCGACTCTCCTCAGCTACGCTCTGAGCACTCATTAAACATACGATATTCGCTTGTCTACCGGAAGCACTTTTGGTTCATGTACGCTTCTTAGGTGACGACCTTATAAGATGGAGTCCAAGATGGAGGATGGACCAGAACAGACTTGACAAACATCAGTCACCCGTACCTTTGGGCGGACGTCAAAAATCTTTTCGGTTAGACTCCGTAGGGTAGACGATTAACCTATCGGCCTTTCTTGTAATTCTGTTACCATAAAGTAGAGACTAGGAGAGATGAACACTGTCACACGAGAGGGTGCGCCGGGGTTCGTCCGCTAATCCTAGGCAGCTATAAACCGGGCGCGCCCTATACATCGTATAAGGAACAAGTATAAGGAACGAACAACTACAGCGCCATAGGACTTTGCGTGCCCCTGCTTACAGAAAACCATCTTCTAACCATCTAACCATCTCGTTCCGGGGTCATGACAGTAATGCGGGTAATGGAGGGCTCGCGTCACATGGATTGAGGACGCGAGGATTGTCCGGTCGCAC', '8 26 4']\n"
     ]
    }
   ],
   "source": [
    "print(txt)"
   ]
  },
  {
   "cell_type": "code",
   "execution_count": 363,
   "metadata": {},
   "outputs": [
    {
     "data": {
      "text/plain": [
       "[]"
      ]
     },
     "execution_count": 363,
     "metadata": {},
     "output_type": "execute_result"
    }
   ],
   "source": [
    "findClumps(txt[0],8,26,4)"
   ]
  },
  {
   "cell_type": "code",
   "execution_count": 364,
   "metadata": {},
   "outputs": [],
   "source": [
    "filename = '/Users/froux/Documents/Bioinformatics/Week1/E_coli.txt'\n",
    "file = open(filename,'r')\n",
    "txt = file.read()\n",
    "txt = txt.splitlines()"
   ]
  },
  {
   "cell_type": "code",
   "execution_count": 365,
   "metadata": {},
   "outputs": [
    {
     "data": {
      "text/plain": [
       "4639675"
      ]
     },
     "execution_count": 365,
     "metadata": {},
     "output_type": "execute_result"
    }
   ],
   "source": [
    "len(txt[0])"
   ]
  },
  {
   "cell_type": "code",
   "execution_count": 366,
   "metadata": {},
   "outputs": [
    {
     "ename": "KeyboardInterrupt",
     "evalue": "",
     "output_type": "error",
     "traceback": [
      "\u001b[0;31m---------------------------------------------------------------------------\u001b[0m",
      "\u001b[0;31mKeyboardInterrupt\u001b[0m                         Traceback (most recent call last)",
      "\u001b[0;32m<ipython-input-366-aea2af73738c>\u001b[0m in \u001b[0;36m<module>\u001b[0;34m\u001b[0m\n\u001b[0;32m----> 1\u001b[0;31m \u001b[0mfindClumps\u001b[0m\u001b[0;34m(\u001b[0m\u001b[0mtxt\u001b[0m\u001b[0;34m[\u001b[0m\u001b[0;36m0\u001b[0m\u001b[0;34m]\u001b[0m\u001b[0;34m,\u001b[0m\u001b[0;36m9\u001b[0m\u001b[0;34m,\u001b[0m\u001b[0;36m500\u001b[0m\u001b[0;34m,\u001b[0m\u001b[0;36m3\u001b[0m\u001b[0;34m)\u001b[0m\u001b[0;34m\u001b[0m\u001b[0;34m\u001b[0m\u001b[0m\n\u001b[0m",
      "\u001b[0;32m<ipython-input-358-892ae2ae1c26>\u001b[0m in \u001b[0;36mfindClumps\u001b[0;34m(strInput, k, L, t)\u001b[0m\n\u001b[1;32m      3\u001b[0m     \u001b[0;32mfor\u001b[0m \u001b[0mi\u001b[0m \u001b[0;32min\u001b[0m \u001b[0mrange\u001b[0m\u001b[0;34m(\u001b[0m\u001b[0mlen\u001b[0m\u001b[0;34m(\u001b[0m\u001b[0mstrInput\u001b[0m\u001b[0;34m)\u001b[0m\u001b[0;34m-\u001b[0m\u001b[0mL\u001b[0m\u001b[0;34m+\u001b[0m\u001b[0;36m1\u001b[0m\u001b[0;34m)\u001b[0m\u001b[0;34m:\u001b[0m\u001b[0;34m\u001b[0m\u001b[0;34m\u001b[0m\u001b[0m\n\u001b[1;32m      4\u001b[0m         \u001b[0msubStr\u001b[0m \u001b[0;34m=\u001b[0m \u001b[0mstrInput\u001b[0m\u001b[0;34m[\u001b[0m\u001b[0mi\u001b[0m\u001b[0;34m:\u001b[0m\u001b[0mi\u001b[0m\u001b[0;34m+\u001b[0m\u001b[0mL\u001b[0m\u001b[0;34m]\u001b[0m\u001b[0;34m\u001b[0m\u001b[0;34m\u001b[0m\u001b[0m\n\u001b[0;32m----> 5\u001b[0;31m         \u001b[0mout\u001b[0m \u001b[0;34m=\u001b[0m \u001b[0mfindFreqWords\u001b[0m\u001b[0;34m(\u001b[0m\u001b[0msubStr\u001b[0m\u001b[0;34m,\u001b[0m\u001b[0mk\u001b[0m\u001b[0;34m)\u001b[0m\u001b[0;34m\u001b[0m\u001b[0;34m\u001b[0m\u001b[0m\n\u001b[0m\u001b[1;32m      6\u001b[0m         \u001b[0;32mif\u001b[0m \u001b[0;34m(\u001b[0m\u001b[0mout\u001b[0m\u001b[0;34m[\u001b[0m\u001b[0;36m1\u001b[0m\u001b[0;34m]\u001b[0m\u001b[0;34m>=\u001b[0m\u001b[0mt\u001b[0m\u001b[0;34m)\u001b[0m\u001b[0;34m:\u001b[0m\u001b[0;34m\u001b[0m\u001b[0;34m\u001b[0m\u001b[0m\n\u001b[1;32m      7\u001b[0m             \u001b[0;32mfor\u001b[0m \u001b[0mx\u001b[0m \u001b[0;32min\u001b[0m \u001b[0mout\u001b[0m\u001b[0;34m[\u001b[0m\u001b[0;36m0\u001b[0m\u001b[0;34m]\u001b[0m\u001b[0;34m:\u001b[0m\u001b[0;34m\u001b[0m\u001b[0;34m\u001b[0m\u001b[0m\n",
      "\u001b[0;32m<ipython-input-345-6cc9b5bd9ffe>\u001b[0m in \u001b[0;36mfindFreqWords\u001b[0;34m(strInput, k)\u001b[0m\n\u001b[1;32m      5\u001b[0m     \u001b[0;32mfor\u001b[0m \u001b[0mi\u001b[0m \u001b[0;32min\u001b[0m \u001b[0mrange\u001b[0m\u001b[0;34m(\u001b[0m\u001b[0mlen\u001b[0m\u001b[0;34m(\u001b[0m\u001b[0mstrInput\u001b[0m\u001b[0;34m)\u001b[0m\u001b[0;34m-\u001b[0m\u001b[0mk\u001b[0m\u001b[0;34m+\u001b[0m\u001b[0;36m1\u001b[0m\u001b[0;34m)\u001b[0m\u001b[0;34m:\u001b[0m\u001b[0;34m\u001b[0m\u001b[0;34m\u001b[0m\u001b[0m\n\u001b[1;32m      6\u001b[0m         \u001b[0mw\u001b[0m\u001b[0;34m=\u001b[0m\u001b[0mstrInput\u001b[0m\u001b[0;34m[\u001b[0m\u001b[0mi\u001b[0m\u001b[0;34m:\u001b[0m\u001b[0mi\u001b[0m\u001b[0;34m+\u001b[0m\u001b[0mk\u001b[0m\u001b[0;34m]\u001b[0m\u001b[0;34m\u001b[0m\u001b[0;34m\u001b[0m\u001b[0m\n\u001b[0;32m----> 7\u001b[0;31m         \u001b[0mtmp\u001b[0m\u001b[0;34m=\u001b[0m\u001b[0mfindPatterns\u001b[0m\u001b[0;34m(\u001b[0m\u001b[0mstrInput\u001b[0m\u001b[0;34m,\u001b[0m\u001b[0mw\u001b[0m\u001b[0;34m)\u001b[0m\u001b[0;34m\u001b[0m\u001b[0;34m\u001b[0m\u001b[0m\n\u001b[0m\u001b[1;32m      8\u001b[0m         \u001b[0;32mif\u001b[0m \u001b[0;34m(\u001b[0m\u001b[0mtmp\u001b[0m \u001b[0;34m>=\u001b[0m\u001b[0mm\u001b[0m\u001b[0;34m)\u001b[0m\u001b[0;34m:\u001b[0m\u001b[0;34m\u001b[0m\u001b[0;34m\u001b[0m\u001b[0m\n\u001b[1;32m      9\u001b[0m             \u001b[0;32mif\u001b[0m \u001b[0;34m(\u001b[0m\u001b[0mfw\u001b[0m\u001b[0;34m.\u001b[0m\u001b[0mcount\u001b[0m\u001b[0;34m(\u001b[0m\u001b[0mw\u001b[0m\u001b[0;34m)\u001b[0m\u001b[0;34m==\u001b[0m\u001b[0;36m0\u001b[0m\u001b[0;34m)\u001b[0m\u001b[0;34m:\u001b[0m\u001b[0;34m\u001b[0m\u001b[0;34m\u001b[0m\u001b[0m\n",
      "\u001b[0;32m<ipython-input-290-45d36ed8772a>\u001b[0m in \u001b[0;36mfindPatterns\u001b[0;34m(strInput, pattern)\u001b[0m\n\u001b[1;32m      3\u001b[0m     \u001b[0mn\u001b[0m\u001b[0;34m=\u001b[0m\u001b[0mlen\u001b[0m\u001b[0;34m(\u001b[0m\u001b[0mpattern\u001b[0m\u001b[0;34m)\u001b[0m\u001b[0;34m\u001b[0m\u001b[0;34m\u001b[0m\u001b[0m\n\u001b[1;32m      4\u001b[0m     \u001b[0;32mfor\u001b[0m \u001b[0mi\u001b[0m \u001b[0;32min\u001b[0m \u001b[0mrange\u001b[0m\u001b[0;34m(\u001b[0m\u001b[0mlen\u001b[0m\u001b[0;34m(\u001b[0m\u001b[0mstrInput\u001b[0m\u001b[0;34m)\u001b[0m\u001b[0;34m-\u001b[0m\u001b[0mn\u001b[0m\u001b[0;34m+\u001b[0m\u001b[0;36m1\u001b[0m\u001b[0;34m)\u001b[0m\u001b[0;34m:\u001b[0m\u001b[0;34m\u001b[0m\u001b[0;34m\u001b[0m\u001b[0m\n\u001b[0;32m----> 5\u001b[0;31m         \u001b[0mstrWin\u001b[0m \u001b[0;34m=\u001b[0m \u001b[0mstrInput\u001b[0m\u001b[0;34m[\u001b[0m\u001b[0mi\u001b[0m\u001b[0;34m:\u001b[0m\u001b[0mi\u001b[0m\u001b[0;34m+\u001b[0m\u001b[0mn\u001b[0m\u001b[0;34m]\u001b[0m\u001b[0;34m\u001b[0m\u001b[0;34m\u001b[0m\u001b[0m\n\u001b[0m\u001b[1;32m      6\u001b[0m         \u001b[0;32mif\u001b[0m \u001b[0;34m(\u001b[0m\u001b[0mpattern\u001b[0m \u001b[0;32min\u001b[0m \u001b[0mstrWin\u001b[0m\u001b[0;34m)\u001b[0m\u001b[0;34m:\u001b[0m\u001b[0;34m\u001b[0m\u001b[0;34m\u001b[0m\u001b[0m\n\u001b[1;32m      7\u001b[0m             \u001b[0mcnt\u001b[0m\u001b[0;34m+=\u001b[0m\u001b[0;36m1\u001b[0m\u001b[0;34m\u001b[0m\u001b[0;34m\u001b[0m\u001b[0m\n",
      "\u001b[0;31mKeyboardInterrupt\u001b[0m: "
     ]
    }
   ],
   "source": [
    "findClumps(txt[0],9,500,3)"
   ]
  },
  {
   "cell_type": "code",
   "execution_count": 457,
   "metadata": {},
   "outputs": [],
   "source": [
    "def compFreqArray(k):\n",
    "    n = pow(4,k)\n",
    "    fa = {}\n",
    "    fa['kmer'] = []\n",
    "    fa['idx'] = list(range(n))\n",
    "    fa['count'] = []\n",
    "    return fa"
   ]
  },
  {
   "cell_type": "code",
   "execution_count": 458,
   "metadata": {},
   "outputs": [
    {
     "data": {
      "text/plain": [
       "{'kmer': [],\n",
       " 'idx': [0, 1, 2, 3, 4, 5, 6, 7, 8, 9, 10, 11, 12, 13, 14, 15],\n",
       " 'count': []}"
      ]
     },
     "execution_count": 458,
     "metadata": {},
     "output_type": "execute_result"
    }
   ],
   "source": [
    "compFreqArray(2)"
   ]
  },
  {
   "cell_type": "code",
   "execution_count": 400,
   "metadata": {},
   "outputs": [],
   "source": [
    "def SymbolToNumber(symb):\n",
    "    num=None\n",
    "    if ('A' in symb.capitalize()):\n",
    "        num=0\n",
    "    if ('C' in symb.capitalize()):\n",
    "        num=1\n",
    "    if ('T' in symb.capitalize()):\n",
    "        num=2\n",
    "    if ('G' in symb.capitalize()):\n",
    "        num=3\n",
    "    return num"
   ]
  },
  {
   "cell_type": "code",
   "execution_count": 446,
   "metadata": {},
   "outputs": [],
   "source": [
    " def PatternToNumber(Pattern):\n",
    "    if len(Pattern)==0:\n",
    "        return 0\n",
    "    symbol = Pattern[len(Pattern)-1]\n",
    "    Prefix = Pattern[0:len(Pattern)-1]\n",
    "\n",
    "    return 4 * PatternToNumber(Prefix) + SymbolToNumber(symbol)"
   ]
  },
  {
   "cell_type": "code",
   "execution_count": 447,
   "metadata": {},
   "outputs": [
    {
     "name": "stdout",
     "output_type": "stream",
     "text": [
      "('AG', 'T')\n",
      "('A', 'G')\n",
      "('', 'A')\n",
      "0\n",
      "0\n",
      "0\n",
      "3\n",
      "('', 'A')\n",
      "0\n",
      "0\n",
      "3\n",
      "2\n",
      "('A', 'G')\n",
      "('', 'A')\n",
      "0\n",
      "0\n",
      "0\n",
      "3\n",
      "('', 'A')\n",
      "0\n",
      "0\n"
     ]
    },
    {
     "data": {
      "text/plain": [
       "14"
      ]
     },
     "execution_count": 447,
     "metadata": {},
     "output_type": "execute_result"
    }
   ],
   "source": [
    "PatternToNumber('AGT')"
   ]
  },
  {
   "cell_type": "code",
   "execution_count": 379,
   "metadata": {},
   "outputs": [
    {
     "data": {
      "text/plain": [
       "4096"
      ]
     },
     "execution_count": 379,
     "metadata": {},
     "output_type": "execute_result"
    }
   ],
   "source": []
  },
  {
   "cell_type": "code",
   "execution_count": null,
   "metadata": {},
   "outputs": [],
   "source": [
    "a='test'\n",
    "a.capitalize"
   ]
  }
 ],
 "metadata": {
  "kernelspec": {
   "display_name": "Python 3",
   "language": "python",
   "name": "python3"
  },
  "language_info": {
   "codemirror_mode": {
    "name": "ipython",
    "version": 3
   },
   "file_extension": ".py",
   "mimetype": "text/x-python",
   "name": "python",
   "nbconvert_exporter": "python",
   "pygments_lexer": "ipython3",
   "version": "3.7.4"
  }
 },
 "nbformat": 4,
 "nbformat_minor": 2
}
