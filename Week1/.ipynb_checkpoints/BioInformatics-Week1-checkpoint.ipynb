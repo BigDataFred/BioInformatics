{
 "cells": [
  {
   "cell_type": "markdown",
   "metadata": {},
   "source": [
    "# Finding Hidden Messages in DNA (Bioinformatics I)"
   ]
  },
  {
   "cell_type": "markdown",
   "metadata": {},
   "source": [
    "## Week 1"
   ]
  },
  {
   "cell_type": "code",
   "execution_count": 1,
   "metadata": {},
   "outputs": [],
   "source": [
    "filename = '/Users/froux/Documents/Bioinformatics/Week1/dataset_2_10.txt'\n",
    "file = open(filename,'r')\n",
    "txt = file.read()\n",
    "txt = txt.splitlines()"
   ]
  },
  {
   "cell_type": "code",
   "execution_count": 2,
   "metadata": {},
   "outputs": [
    {
     "name": "stdout",
     "output_type": "stream",
     "text": [
      "['GAATATGCTCGAACTTGCTCCCCAGATAACCGCTTGTCTGAATATGCTCCCCAGATAACCCCAGATAACGAACTTGCTCCGCTTGTCTCGAACTTGCTTGACTGTAGTCCCCAGATAACGAACTTGCTTGACTGTAGTGAATATGCTCCGCTTGTCTTGACTGTAGTTGACTGTAGTCCGCTTGTCTCGAACTTGCTGAATATGCTGAATATGCTCCGCTTGTCTTGACTGTAGTCGAACTTGCTTGACTGTAGTTGACTGTAGTTGACTGTAGTCCGCTTGTCTCCCCAGATAAGAATATGCTGAATATGCTGAATATGCTCGAACTTGCTGAATATGCTCCGCTTGTCTGAATATGCTGAATATGCTCGAACTTGCTCCCCAGATAACCGCTTGTCTCCGCTTGTCTCCCCAGATAACGAACTTGCTCGAACTTGCTCCCCAGATAACCGCTTGTCTCCGCTTGTCTCCCCAGATAACCCCAGATAACGAACTTGCTTGACTGTAGTTGACTGTAGTCCGCTTGTCTTGACTGTAGTCCGCTTGTCTTGACTGTAGTCCGCTTGTCTCCCCAGATAACGAACTTGCTCCCCAGATAAGAATATGCTCGAACTTGCTCCCCAGATAACGAACTTGCTCCGCTTGTCTGAATATGCTCGAACTTGCTCCCCAGATAACGAACTTGCTGAATATGCTTGACTGTAGTTGACTGTAGTCGAACTTGCTTGACTGTAGTCCGCTTGTCTTGACTGTAGTCCCCAGATAACCGCTTGTCTGAATATGCTCGAACTTGCTCCCCAGATAACCCCAGATAATGACTGTAGTCCGCTTGTCTTGACTGTAGTCCGCTTGTCTGAATATGCTCGAACTTGCTCCGCTTGTCTTGACTGTAGTGAATATGCTCCGCTTGTCTCCGCTTGTCT', '13']\n"
     ]
    }
   ],
   "source": [
    "print(txt)"
   ]
  },
  {
   "cell_type": "code",
   "execution_count": 3,
   "metadata": {},
   "outputs": [],
   "source": [
    "def findPatterns(strInput,pattern):\n",
    "    cnt=0\n",
    "    n=len(pattern)\n",
    "    for i in range(len(strInput)-n+1):\n",
    "        strWin = strInput[i:i+n]\n",
    "        if (pattern in strWin):\n",
    "            cnt+=1\n",
    "    return cnt"
   ]
  },
  {
   "cell_type": "code",
   "execution_count": 4,
   "metadata": {},
   "outputs": [
    {
     "data": {
      "text/plain": [
       "4"
      ]
     },
     "execution_count": 4,
     "metadata": {},
     "output_type": "execute_result"
    }
   ],
   "source": [
    "findPatterns('GACGACGACGAC','GAC')"
   ]
  },
  {
   "cell_type": "code",
   "execution_count": 148,
   "metadata": {},
   "outputs": [
    {
     "data": {
      "text/plain": [
       "4"
      ]
     },
     "execution_count": 148,
     "metadata": {},
     "output_type": "execute_result"
    }
   ],
   "source": [
    "findPatterns('ACTGTACGATGATGTGTGTCAAAG','TGT')"
   ]
  },
  {
   "cell_type": "code",
   "execution_count": 5,
   "metadata": {},
   "outputs": [],
   "source": [
    "def findFreqWords(strInput,k):\n",
    "    cnt=[]\n",
    "    fw=[]\n",
    "    m=0\n",
    "    for i in range(len(strInput)-k+1):\n",
    "        w=strInput[i:i+k]\n",
    "        tmp=findPatterns(strInput,w)\n",
    "        if (tmp >=m):\n",
    "            if (fw.count(w)==0):\n",
    "                fw.append(w)\n",
    "                cnt.append(tmp)\n",
    "                \n",
    "    m=max(cnt)\n",
    "    sel=[]\n",
    "    while (cnt.count(m)!=0):\n",
    "        ix=cnt.index(m)    \n",
    "        sel.append(fw[ix])\n",
    "        cnt.pop(ix)\n",
    "        fw.pop(ix)\n",
    "        \n",
    "    return(sel,m)"
   ]
  },
  {
   "cell_type": "code",
   "execution_count": 6,
   "metadata": {},
   "outputs": [
    {
     "data": {
      "text/plain": [
       "(['ACTAT'], 3)"
      ]
     },
     "execution_count": 6,
     "metadata": {},
     "output_type": "execute_result"
    }
   ],
   "source": [
    "findFreqWords('ACAACTATGCATACTATCGGGAACTATCCT',5)"
   ]
  },
  {
   "cell_type": "code",
   "execution_count": 7,
   "metadata": {},
   "outputs": [
    {
     "data": {
      "text/plain": [
       "(['ATA'], 3)"
      ]
     },
     "execution_count": 7,
     "metadata": {},
     "output_type": "execute_result"
    }
   ],
   "source": [
    "findFreqWords('CGATATATCCATAG',3)"
   ]
  },
  {
   "cell_type": "code",
   "execution_count": 8,
   "metadata": {},
   "outputs": [
    {
     "data": {
      "text/plain": [
       "(['GCAT', 'CATG'], 3)"
      ]
     },
     "execution_count": 8,
     "metadata": {},
     "output_type": "execute_result"
    }
   ],
   "source": [
    "findFreqWords('ACGTTGCATGTCGCATGATGCATGAGAGCT',4)"
   ]
  },
  {
   "cell_type": "code",
   "execution_count": 9,
   "metadata": {},
   "outputs": [
    {
     "data": {
      "text/plain": [
       "(['GCAT', 'CATG'], 3)"
      ]
     },
     "execution_count": 9,
     "metadata": {},
     "output_type": "execute_result"
    }
   ],
   "source": [
    "findFreqWords('ACGTTGCATGTCGCATGATGCATGAGAGCT',4)"
   ]
  },
  {
   "cell_type": "code",
   "execution_count": 152,
   "metadata": {},
   "outputs": [
    {
     "data": {
      "text/plain": [
       "(['AGG'], 4)"
      ]
     },
     "execution_count": 152,
     "metadata": {},
     "output_type": "execute_result"
    }
   ],
   "source": [
    "findFreqWords('CGGAGGACTCTAGGTAACGCTTATCAGGTCCATAGGACATTCA',3)"
   ]
  },
  {
   "cell_type": "code",
   "execution_count": 10,
   "metadata": {},
   "outputs": [
    {
     "data": {
      "text/plain": [
       "(['CTCCCCAGATAAC'], 10)"
      ]
     },
     "execution_count": 10,
     "metadata": {},
     "output_type": "execute_result"
    }
   ],
   "source": [
    "findFreqWords(txt[0],int(txt[1]))"
   ]
  },
  {
   "cell_type": "code",
   "execution_count": 11,
   "metadata": {},
   "outputs": [],
   "source": [
    "def reverseComplementStr(inputStr):\n",
    "    rcs = ''\n",
    "    for s in inputStr:\n",
    "        if (s=='A'):\n",
    "            rcs=rcs+'T'\n",
    "        elif (s=='T'):\n",
    "            rcs=rcs+'A'\n",
    "        elif (s=='C'):\n",
    "            rcs=rcs+'G'\n",
    "        elif (s=='G'):\n",
    "            rcs=rcs+'C'\n",
    "    rcs = rcs\n",
    "    return rcs[::-1]"
   ]
  },
  {
   "cell_type": "code",
   "execution_count": 150,
   "metadata": {},
   "outputs": [
    {
     "data": {
      "text/plain": [
       "'GATCTGG'"
      ]
     },
     "execution_count": 150,
     "metadata": {},
     "output_type": "execute_result"
    }
   ],
   "source": [
    "reverseComplementStr('CCAGATC')"
   ]
  },
  {
   "cell_type": "code",
   "execution_count": 153,
   "metadata": {},
   "outputs": [
    {
     "data": {
      "text/plain": [
       "'TGTAATC'"
      ]
     },
     "execution_count": 153,
     "metadata": {},
     "output_type": "execute_result"
    }
   ],
   "source": [
    "reverseComplementStr('GATTACA')"
   ]
  },
  {
   "cell_type": "code",
   "execution_count": 12,
   "metadata": {},
   "outputs": [
    {
     "data": {
      "text/plain": [
       "True"
      ]
     },
     "execution_count": 12,
     "metadata": {},
     "output_type": "execute_result"
    }
   ],
   "source": [
    "reverseComplementStr('AAAACCCGGT') == 'ACCGGGTTTT'"
   ]
  },
  {
   "cell_type": "code",
   "execution_count": 13,
   "metadata": {},
   "outputs": [
    {
     "data": {
      "text/plain": [
       "True"
      ]
     },
     "execution_count": 13,
     "metadata": {},
     "output_type": "execute_result"
    }
   ],
   "source": [
    "reverseComplementStr('ACACAC') == 'GTGTGT'"
   ]
  },
  {
   "cell_type": "code",
   "execution_count": 14,
   "metadata": {},
   "outputs": [],
   "source": [
    "filename = '/Users/froux/Documents/Bioinformatics/Week1/dataset_3_2.txt'\n",
    "file = open(filename,'r')\n",
    "txt = file.read()\n",
    "txt = txt.splitlines()"
   ]
  },
  {
   "cell_type": "code",
   "execution_count": 15,
   "metadata": {},
   "outputs": [],
   "source": [
    "rcs=reverseComplementStr(txt[0]) "
   ]
  },
  {
   "cell_type": "code",
   "execution_count": 16,
   "metadata": {},
   "outputs": [
    {
     "name": "stdout",
     "output_type": "stream",
     "text": [
      "GGCACCCGGCGTATTCTAAATGGAGCGCCCAGGGGAAAGGGTGGTAACTAAGCGAACGAGGAGAAAACAAAGGCACTTCGCACATATTTCGAGATTACACGGCGGCTGGTTGATTGAAGATATTTGAGAGGCCATCATCTACCTGATTTTAGTATCACTTAGGCAGATCCCGGGGACTTCTCTCGAGCCAACCGGAAGGTTACAACGAAAGTGCATGGCAAGGGGAGACCCTTATTGCTGCCTAACGCTGATTGCAGACCAACAAACTAACTAGGTACAGGGGCTCTCGAAAGGACCGACGATTGCCAGTTACATAGCAGTAGGTATAAAAACTAGTCGGGTGCTCAGTTAGGCGGACACTAACACGGGCAAGGCCGGGTGAGGTGCTTTCAATTCATATAAAGATGGCTTAAATACGACATTACTTATGAGTCCTTCTTTGAGCTTGCGAGGTGTGACGCAAGATGCGAGAAAGTCGCCACACTGGCATTTCCAGACGTTAAGCCAGCGGCGCCCTATCAACGTCTAGCATAGCCACCTACGGCGTGGCTCTCTGCTTAGGTTCGGATCGGGCCTGCGCTTCCAGAGGTGCGAATCAGGAGTCCCTAAAGCAGGTGTCAAATAAGGAGGAGCCCGTGTGAAGCAAGTCGCATAGCGGTGCCGCGAGGGGACCACGAGGACGGACAGCCCCGCCATTTGGGAAGAGGCCCAACCTAACTTCTAGACTGTTGTTGTGAGGTTCTGCCTGAATATGAGGGGCGTTTAGACAAAGTGCAATCAGTCTCTGGGAAACAACCGTTGATGTTTTTAATTGCAGAGAGCGATCGAATGCTCGGAACTCCCCATCTTTCTCTATGGAGCTAATTCTGTCGAATAAAGAGCTTCTTGGCGGGTACTGGGGCGGAACCACTAAATCGACCAAACCTCCGTTGAACAGAACGAGCTTAATTTCCCTGCTTAAGCGCTTAAAACAGATAAAGGTATTTGTATACTGGGGTGACCTCTACCTTTGGCTGAAGAAGCCGTGTGGCTGGTACCAGACCCTATTCGTCACTCGATTGACTAGGCACTCTGTTACGCATCTCCAACTACCAGAGGCCCCGCGAAGGCAACGATCGCTGTTCCTAAAAAGTCATCCGCAAACCCGCATGATCCGGGTCTTTAAAATATCAAATGAACATACTGTCCGACAAATCCAGGAGGGACCTTCACAAAACACAAGGGCGTAGGCTCATTTGCGAATCTTTCCATCCAGGGACCCTGACTCCACTAAGAACTGTATTCCCCCACGTGCTCGCGGGCTTTTTTGCTGGGGGCGATTCGATCCACAATCTTTCTTATTGATGGAACCAGTTAGCGAGATGCCCTGATGCCTGGCCGTAATCGTCGTGGCGGCCACTAGCTCAATTAGACCAGCATCAGCCAAATCGTAGGTTGCGGGCTGACCATCAAACAATTCAGGAATCTTACAAGAACTGCGCGAATTCAATTGCTAAAGACTTAAGCCCTGCGAGGGCACCTCCCTTAAAAGTCTTCTACCGGGGACTCGCCTATCTCCCTAGACCTGCGGGTTAAGCGTTAGGTCTAACATATGCCGAATGGTTGGCTGGCCCTAAACGCGGTAGATCCAGTGCCGGGTACAACCGTTTGCGCGGATATCAAGACTTAATAATGCCGAAAGATGATGCAGACGCAGAACTCCAGCAAAGCCCCTTGGAAGGCGAATCATTACAAACAGTCAAAGTCTGGTAAGGTATTTGGCCTTGACCAGAACCAAAATGTAGTAAAGGCCTCGACCAACAAATGACCGTCTCTAGTTCATTGATCGTGTTCATTGCCGGTCTGCAAGATTCACACATTCACATGCCTACGACGACAAGAGATTACGGGTGCTTCCCGAGGTGTGTGTGCTACGGCGGCTCCGCCTCAGCAGTGAAGTTTGGTCGAAGTCCTCCGGTTTGGTGATCGGGCCAAACAGACGGACACTACGACAAATATAGTTCGACTGAGGCAGCATTTTATCTATGATGCTTGGGCCAGTCATGCAGACCCGGATGGAACTGAACCGGCCGATGCCTTGGAGCAAAATCTTTGCTACAAGCCGTGGTAACCGATGGGAGCAATCTAGGTACTTACCAACGTATTGCCGGGAAGCTCTGCGGGTCTCCTGCAACGGCTATTCTATATCCAACCGTTTGCTACCCGTGTCCCTCGCCAGTACAAATTAAGTCAGTGACCCCTATTATCAAACCTTACAATGATCGTCTAGAGAATTAATGAATTACGGAGACCATCAACCTAGCAAATAACTTATCAGAATTAACTACCTCGTAGCTTCGACATCCAAAGCAACCCGGAGGCTGGAGTGTCCGTGGCGAGTCAGAAAAGGGACATGCGACTTAAGGTCTTCAACCTTGGACCTAAGCCATAAAGCATAATTTAGTCACCGCCGTCTGGACTCGAAACTATAGACGCTGTGCATCTACTGTCCTCCAGCGCTATTACATAACTGTAGAAGCCTCCGGGTACGCTGCTTTGTATGTATCGTGGTGTTCCAGCGGGCGTGCGTCTTTGAATAAGTATTATCGAGGCGGCCAAGCCATCAAACACACCGTCCATGAGTTTAGGTCTCAATTTGCAGCACATGCCTCCGCTTGCCTTACGCGGCGTTAAGAAACCTGTCTAAACTCCTTTCATATTCGTCACGGCACCTGTTTGGCCTTCGCATATTACGATAAACGTCATTCCTCTTCTGGTCGATGGCGGAGGGGTGCATCACATGGCAGTTCCGATGACACGATGAGGCAATGCTACTCAAAGTGATGATTCTACTGGGAACGCGACGGGACTTTAGCCAACTATACGGTCCCATGAATATGCATGGGGTTCGACCTCGCACTGTCGGACCTACACTCTGGAGGAGCAGATAGGAGAAGAGTCGCACCTAAATTGTGCAGTGTACGGTGACCTATGGGAGTGCTGGTTGTTTGCGAGGTGATTCTCTTATCCCAACCAGTAGGGGGAACCAGTGCATCAGCAAAGCGCAGCATTCTGTCATTAGCCTCGTTTTAATTTGCATTCCACAGTTGAAATTTAGCGTTGACGCTTAGATGTAATCCACTATACAGGGGTCTATACGTCCACTTGCTAGACTAAAGGAGCGTAGTGATTTGCTACACGGGTTTGCTTATCGTTTGCCGGTTGGTGGTATGCTCGCACAACTATCAGTTAACTCGAGGAAATACGAAATTACGCAGGGTGCACTAATCTGCTCTTTTGTGCAGTCTCTTCTAACGCGGAAGTGTTGAGGGCTACGCAAATAACAATTTCCGCACGTTAAGTATTGTGGTACAACTTCTATTTGGCGTTTATGATATTACTTATCTTGGGTTTCTGGTAACGGGGTGCTAGAGCCGCAAAGTACTTGTGACTGGTTCGTCAATCCTGTATGTCACTGAGACTTTGCCATATTCCACTGCTCCTCCTGTGAGCTCCGGGCATCACGGGCGAACTGTTAGTGATCTGCATCGTGACATAGTAACTCGAACGCTAGATAGATTCGGCCGACTAGTAGATTACTTGAAGGCCAGTAGTACAAGTTGTGTGTGATACAACGGCAGAGTACGACATCATTTATCCCACGAGGCGTCCCTCTACTTATGTTCTGGGTGTACATCCACGTTGTACGGCACGTTAATCCCCCCGTAAGATCGCCATACGTTCAAGGGTGGATTGACCAATCGGAATGTATGGTACCATATCCTTTAGGCCATAATCAGTCTCCACTAACTTTTTCAAATCGCCTGATAGTCTAACAGACTACTCTTACCGCTCTGGTGCCCGGCCGTGACTGAAACAGTAACGGAAGTTCTGGCTGACTTGCAATGTGAGCTCGTCGATATATTGGAGTATTGCGTATCTCTAGTTGCCCCTGTAAATAACGTCGGTACGTTGGTTGCTCGCGGGGGTGTGCGCGAAGGGTGTGTCGTGTACTCAACTCTCAATAACGGGGCATAGTAGTGGTGGTCGGGCATTTCTGATGTCAGCTCCTTGGGTATCGAATCTGGACAACATGTTTTCTCACTGCGATAATAACTATGTGTAAGGTGAGGTCAGCGGTCCTAGTCTAGAGCCCAAACGTGACGAGTCTCTTGTAACCCTAGTGTTTCCGGACAATGGGTTTTGACCGATAATCTTTCTGAATACCGCTGGAGATTACGATTAGTCTCATAGTTTTGGGTCCCACGGCTTGCCCTGCCGTAGCCACTGGTATCGGGCGCATAAAGAACGCTCCGCGTAGAGTTTGGCGGATGCTGACGCTGGTGGTTAAAGCCAAAGTAGTTCTCCCACAGCGGACAGTGTGCTGTGCTCTGACCATCCTATCAGCAATTGTAGTTTTGGAGTACTGTAACAGCCATATTCTTACCGTCAGGCAACAGCAACTTTGTCAACATCGATATTATTACTTGCTCCTTGTCGCCGTCACGCATCCCGAGACACTATAGATTTCATGGGTACAACTCGACATCTAACCAAGAGCCTGCATTGTCGAATAGAATTACATTTTGCGAGACGCTGCGGAGGCTGGGAAACGCACTTGTTAACAGCTCACTCTTTACACCGTGATATTGCGGCTTTGGCGCTGTACGGTAAAAATGGGAAAACACATACGATGAAATTCCGTTGTGATATTCCGCTGCTCGTATTGCCTGACTGTGAGCATGGAGCAAGTACTCGGCGATTGCCGTCCGCTCTCTCCTGGACGCCCTGCGCGTTGCATACGCCTTATTAGGCTTGCCTTTCCGTTTTAAGGAACTGGAAAATCTACCCTCCAAAAGACAGCTGGATAACGATTTGATACCCCATGACATCAGTTAGCATTGACGTCGGGCTAACTCAGCTCCCGCACCACTCACCTAAGTACATATTTGATGTTTTAAAATGAACACCATGTCCGTTTTGTAGCAGTACAGACCGTCACCCCGACCAAAGTTAGACTTAGCGTGGTTATGGGAAGGATTGCGAATGGGTGGAAGGGTTCCTAGACAGCTTGGCCTATCCTGACCAGCTTCGGGTATTTGAGCATGCTACAGCTAACAAACCTGGGGATTACTCTAAGGACTTCATTTACGTCTTACGGGAGCAGTGAGACAAATACTTGAGTACTGGTCCTCAAACCAACCATACGCGCCCTTAGTCGGCATTTACTTTTCCCGATAGCCACCCTGTGTTAGCAACGATACTGTTCGATCCTAACCCGAGGATTCCTAACATCAGGGCCCGGGGCTGAGTGCAGAGCAGTCCAGAAGGTGCATAGCTGGTAATAACCTCGGTAGGTGTTAGCCATAATAAGATACCTAGTTCAACAATAGGGGACCTAGGATGGTTAACAGACGCACTGGAGACCAAATAAGATTAGATTGTAATCATCCCGGCTATCCCAACGGATTTCGTGCACGGGTACGGGTCGCCGCTAATCACGGGCTTGGGACAGGTACGCCAGTATCTTGCTCCCGATACGTTCGCTCGGATCGCACCACTCTTATACCATAATCACCAGATCAGTAGGAGCGTTTACTGGAGCACCGTCACTCGACCGGCGCCAAAGCGCCCGTTTTCCGAGATCATGTTAATTTCTTCATTCCACTACGCATTCGTCTCTAACTTCACGGATTTGTGGGGCCCCTCTATGACAGCGAAAGCAGTACCCCCTCCGGACAGTAGATCGCTATGCTCATATCCGTAGCACGAAGACAAATAAGCGTGAGACCATTCATTCACTGAACCTACCCTGGAATAACAACGTACGCAACTACTACAGGGCAGCGCTAGTGGCAAGGATTTCGCAAATTTTTTACTCGCTTCGGGACTCTCTGTTCCGGCTAGGCGATAGGTAAAATCTATAAAGATACTCCTGAGAGTCAGGACCTGCACTTGGGCGCGTGGCAGACTACGGTCCCCTTATAAGGAATGTGAGGAGTGCCATAACCACTTCAGTCTATTTGCCGCAACAGTCAGTTTTGAAGGTTCAAACAATACTCACCCGCACCACTCAAAGACCCCATTTCCAACAGCTGAATAATTTATCGGCCTCGCCCAAGCCTATATCGGGCCCTCCCATGAAGCACGGTACTCAATTCCAATGTCAATGGAGGACATGGTACTACCCGCGGTAGGCTTATACAGATTAGCAGGTTCCTATTCCTTACAACTGGCTCGTCAAACCCGCTGCTTTGTCGTGTGCATTCTGCTATGTGACACATTCAGTAGAGAACACTGCTCCTCGCTATGAGATCCCGCTTTTATCAAATTCTGTATACGTCGTAGTGAATCAGCCGGCAATTGTAGTAGTATCATTCTCTTCGTGCTCAACGTTTCCTCTTTGGATACGTGAATGACTACACTTTCGAGACGCATATACTGCTTCTTCTACGGCGCGATTCCGCAAGACTGCGCGCCTAGAGCCTCGGTGGACGTCTGCTCCCGTTCTGTAACATTAAGGCGCGCTGCGAGTGACTTCAGGTTGTGAGGATTTCATTGGCCGGATGTCGTTGCACGAGAACTTCACGAGCTGTACCGAAACGACCACTTGTTGCGGTATAGGGCTTCCTAAGCTTTACGATGTGTTTCTCCCTTCCCGCGGAGCCACCAACCCATTTCAACTTGGGTCCACATGATCACGATCATTGGGAAATCATCTTTGTGGGGGCTGAGCACGAAGGTGCAGCTTGCCGAGTCCTAGCTCGACTACCGGGAGGGCCCCTACGGCGGCTCCATGATTGGCAGTCGATCCACTTTAAAATTTAATCCTTAAGGAGCGATTTAGCTTAGGTTAGCTTTGAATGAGCGGTCACAAGTGGCACGCCAAGAGCCTGGTGAGTGGTACAATAAAGGCGCGCTACGCTCTTTACCGAAATTATTTAGAACGTTTTAGAGATTGTTCCGCTAAGACATTCGAACTTAAGCTGATCAAAATAAACCAGATTCATGATGATGCCGGACTTAAACGTTGAGGGCCAGCAAATCTTGGGCCTCTACGCGTCGTCCGTTCGTAAAGGGAATTTATGTTGGTACCCGTATCGACACTCACTTAAGTAACACTACATATACTAAGGACCAAAATTTTTTGCCCCGATTTAGGAGTTCGTAAGAGCCGAAGTTTTTTGCACAGCGCGCTGATGACCTCAACTGGCACGAGCGATTGCGCCCTCGGGTCGCTCTATACTCGTATGCAGCAGAAGTGCACACCTTCCTCGATTCAAACTAAGATATCTATTTAAGGCATTGAACACACTTTAGCTAGGGACCCCTGCGCATCGGGTTGGAAATCTGGCTGGTCTAGAGCTCAGCCTGCGTGCAGTAATCAACTAAGGCGTGCCTTAAATGAGGCCCTCACGGGGCGGGTTATCTAAGGATGAGTCTCCTAGTAGCAAAACGTAGCACTTTCGGCGAATACCTAAATAAGCCCACGGTGGAGTGAAATTTGAAGACGTCGAATTCCCCACTTTAGCGACAACTGGTCCCGTTAACATGGGAAGGTAAATCTCGGCCGACCGTGCGAGGCCCCTCCGACTTAGTCACCCTGGAGTGCTTGTTATATGTTTAGCTTGAAAGGGTGGCCACCTTGTCTAGGAGTAGGGTTGCGTTACACTATGGCCCGTCGTATCCTCCCGGACGCATCTCGGCCCAGCGGCTGCTAGATACCGGTCATTACGGTGCTTGCAGGCACGGCCGCTGAGGAGAATGTGGGACTGACGGCTCACGACCAGGGTAACAACAATTAGCAGCCTCAATATTGTGTGATCAGATTTTATTAGACTACATTGGGCCAATTCAGGCTCCTTAAAAGTAAGGGTCTAGGTCATATGTCTGGTCTCTCCATAGGCTTCCGAATGCGCATGTCCTAAATTCGACTATCCGTAATTAGGCCTTTCTGCTTGCCGTGATTACTCGGGAACTCTTACCGACCCTAGAAACTAGGCTGTGCCCTAGGTTAGCAACTAGCACTTTGAACGCGCTGAATGACGCGAGGGTGATTAAATCGCGTGAGGATCAAACCAGTTATGTTTTTTATCGTATAAGGGTAGCGTTTCTCTGCAACTTCGTTTGGAGTGCTTAGGTAGTAAACTAAATCTGACACTATTTTAACCCATCAAGCACCACCTGCGGGCAGCCGGATGCAAGCTATAGAACTCCCATTGACAACGGTATTTACGGAGGACATTTCCCAATTGAGATGCAATTTGGGTTGTGGAGAGCGTCCTTATACTGCCACTACCACTGTGAAGACCTAGGTGTACATTAAGCGTCCTGCGGACCTTCATGAATGATTGTTGTCACAATGCTCAACTTTACTCATATTCTTAACCGTGGTTTTAAGACATACGAACTCACGGGGCCTGCACTTGCAAGACAGGAGATTGGTAGTGCTGGCACTCTGCATGAAACTCTAGACTTCTTTGGGCACGAGACAACGCATCTAGATGAATTCCGTTTCAAACCCAAAATACACTATCACAACCAAGCCACTAAAGCACTTTCGCGCCAACTAAAAAGGGTGCTTCGAAGGGCGAAACAGCATGTCGCTGAAATCTCCAGAATCTCATGTGTCGCACAATACCAGGGCGCCAGTGTATATAAACAACAGTCCCACCCCAAAACGTTTCTTACAGAAACAAGTTACTGTAAATACCGGAGTTTATCATGCCCGTCCAAGCTAAAGTAATAGCGGGCAACGTTTATATGGGGGGGAACGGATCACGCTCTGTCAACTCAAAAATGGTTGGGAGCCCACGCGCGGGACCTGGCCAAGAATATATTGTAGTGTCGAGACGGTGTCAATTTTGTTAAGCCAAGACTCAAGGGCTAATAACTGAGCATTTCAGAAGTCTACTGGTTGGCTCTAGTGTCGCGAATCTGGCTTTCTGATTTATACTCGATTCCTGCCGAAATAATGAAAATCGTCCCTCTCGATAAGAAACTAAGGTGTCCGGACAGAGAGGCATTCTGGTGGTTGGATAACGTCATACATTCCGAGATTACAACCGTCAATAGCTTCATTCATCTAGCACTGGGCAAATGGGCACAGTGACGCGAAACACGTTTCCGGTCACCGGCAGTATGTAGAGTCTTCGTGTTGTACATACCCATTGGACGGGTTCATGTTTATTTTACAATTTACCGGGCAGACATTCCTAGGCCCCGTTCTGATACTCAGGTAAAGAACTGGTCGTATAGCTCCGAGATTTGTCCCATGGTGCTACAGCTCAGCGGATCTATGAAACACCCCGGCGATGAGCTTACATTGCCAGCAGAATCAGACTTTGTATGACGATAAATCTACACAGCAAACTGTGTACCAGAGACTCTTCTTGTTTAAGGACGGACTTGTCACCCTGAGCTAACTGGGCTTCAGCGAACCAGTAAATCTTGTGAGTTAAACTTCTCCTCTAGGCAGACTAGTGCGGCGGCGGACACATCTTCGTCGTTAGGTACGCCCTTTGAGCTGAACGGGAGGTGGAGGCCGAACAACTTAGCCACCTACGTGACAGTGGTGTGTCTTACTCAGTGGCACCTGCAGCAACCTTGGCGAAATCCAATGTACTCCCTACCTTGTATTGGCAAAGTTGCGTTACTGCACCGTTCTCGCTAACTCTACGGGAGCTTATAAATGTTTATGTATCGTGTCAGTAATGCTATCAATTACGCCTATCCTCATGCGGCCTCCCGTATCACTACCGGCAGACAGTTATAGGCCATTAGCAGAACAGCAGCCAATCACTACCGGTTTTTCCAAGGTGCGTGGTACACCAGCGCCCTTAGTACTATGGGAGCCTTGGCCAAGCTCGAAGATAAAGTACCCCGATTATAACGCCGCTTTTAAAGCCTAGAATCTGGGCTCGCTTCTTTGATGTGGATACTCGGGTAGGATGAAGGTCTACGAGACCTGACACGCGCAACAGCGCATGCTGGCTATGTAAATGACAACGTCAGAAGTAC\n"
     ]
    }
   ],
   "source": [
    "print(rcs)"
   ]
  },
  {
   "cell_type": "code",
   "execution_count": 17,
   "metadata": {},
   "outputs": [],
   "source": [
    "def findPatternIdx(pattern,strDat):\n",
    "    ix = []\n",
    "    n = len(pattern)\n",
    "    for i in range(len(strDat)-n+1):\n",
    "        strWin = strDat[i:i+n]\n",
    "        if (pattern in strWin):\n",
    "            ix.append(i)\n",
    "    return ix"
   ]
  },
  {
   "cell_type": "code",
   "execution_count": 18,
   "metadata": {},
   "outputs": [
    {
     "data": {
      "text/plain": [
       "[1, 3, 9]"
      ]
     },
     "execution_count": 18,
     "metadata": {},
     "output_type": "execute_result"
    }
   ],
   "source": [
    "findPatternIdx('ATAT','GATATATGCATATACTT')"
   ]
  },
  {
   "cell_type": "code",
   "execution_count": 151,
   "metadata": {},
   "outputs": [
    {
     "data": {
      "text/plain": [
       "[7, 15, 17]"
      ]
     },
     "execution_count": 151,
     "metadata": {},
     "output_type": "execute_result"
    }
   ],
   "source": [
    "findPatternIdx('CGC','ATGACTTCGCTGTTACGCGC')"
   ]
  },
  {
   "cell_type": "code",
   "execution_count": 154,
   "metadata": {},
   "outputs": [
    {
     "data": {
      "text/plain": [
       "[4, 6, 14]"
      ]
     },
     "execution_count": 154,
     "metadata": {},
     "output_type": "execute_result"
    }
   ],
   "source": [
    "findPatternIdx('ATA','GACGATATACGACGATA')"
   ]
  },
  {
   "cell_type": "code",
   "execution_count": 19,
   "metadata": {},
   "outputs": [],
   "source": [
    "filename = '/Users/froux/Documents/Bioinformatics/Week1/dataset_3_5.txt'\n",
    "file = open(filename,'r')\n",
    "txt = file.read()\n",
    "txt = txt.splitlines()"
   ]
  },
  {
   "cell_type": "code",
   "execution_count": 20,
   "metadata": {},
   "outputs": [],
   "source": [
    "out = findPatternIdx(txt[0],txt[1])"
   ]
  },
  {
   "cell_type": "code",
   "execution_count": 21,
   "metadata": {},
   "outputs": [],
   "source": [
    "out=str(out).replace(',',' ')"
   ]
  },
  {
   "cell_type": "code",
   "execution_count": 22,
   "metadata": {},
   "outputs": [
    {
     "name": "stdout",
     "output_type": "stream",
     "text": [
      "[58  65  72  87  94  102  119  171  178  196  203  262  332  339  366  407  414  429  436  443  450  506  525  663  670  677  701  709  716  725  732  763  805  822  845  896  916  951  1016  1038  1046  1064  1071  1089  1135  1151  1187  1220  1247  1341  1406  1421  1428  1509  1528  1559  1590  1614  1640  1647  1699  1706  1761  1793  1887  1894  1936  1969  1984  1995  2011  2026  2068  2075  2095  2125  2141  2156  2163  2211  2265  2280  2323  2415  2433  2440  2447  2501  2535  2640  2648  2656  2688  2759  2803  2843  2860  2876  2897  2967  3013  3092  3116  3132  3187  3195  3225  3232  3262  3269  3276  3294  3301  3308  3356  3383  3422  3441  3448  3486  3502  3509  3600  3628  3674  3681  3688  3778  3815  3832  3847  3866  3882  3915  3937  3962  4013  4034  4042  4154  4223  4245  4298  4342  4451  4485  4492  4548  4556  4563  4570  4621  4628  4658  4674  4681  4718  4745  4752  4759  4780  4832  4839  4858  4883  4895  4961  5002  5020  5027  5082  5124  5169  5219  5256  5284  5348  5355  5373  5414  5423  5488  5505  5534  5541  5548  5580  5587  5603  5610  5627  5645  5716  5723  5738  5778  5785  5812  5820  5847  5862  5950  6033  6059  6092  6135  6194  6244  6354  6361  6403  6431  6438  6483  6490  6510  6607  6618  6670  6686  6724  6741  6807  6814  6822  6842  6849  6865  6888  6903  6924  6999  7007  7025  7081  7125  7153  7164  7228  7235  7279  7309  7341  7349  7356  7438  7453  7506  7526  7533  7561  7568  7602  7609  7617  7648  7812  7819  7841  7856  7863  7921  7984  8012  8026  8034  8041  8048  8079  8087  8094  8151  8158  8182  8209  8238  8274  8281  8288  8322  8348  8382  8403  8448  8484  8491  8507  8548  8625  8632  8656  8663  8670  8677  8694  8714  8721  8751  8759  8775  8782  8797  8833  8872  8879  8886  8904  8941  8971]\n"
     ]
    }
   ],
   "source": [
    "print(out)"
   ]
  },
  {
   "cell_type": "code",
   "execution_count": 23,
   "metadata": {},
   "outputs": [],
   "source": [
    "filename = '/Users/froux/Documents/Bioinformatics/Week1/Vibrio_cholerae.txt'\n",
    "file = open(filename,'r')\n",
    "txt = file.read()\n",
    "txt = txt.splitlines()"
   ]
  },
  {
   "cell_type": "code",
   "execution_count": 24,
   "metadata": {},
   "outputs": [],
   "source": [
    "out = findPatternIdx('CTTGATCAT',txt[0])"
   ]
  },
  {
   "cell_type": "code",
   "execution_count": 25,
   "metadata": {},
   "outputs": [],
   "source": [
    "out=str(out).replace(',','')"
   ]
  },
  {
   "cell_type": "code",
   "execution_count": 26,
   "metadata": {},
   "outputs": [
    {
     "name": "stdout",
     "output_type": "stream",
     "text": [
      "[60039 98409 129189 152283 152354 152411 163207 197028 200160 357976 376771 392723 532935 600085 622755 1065555]\n"
     ]
    }
   ],
   "source": [
    "print(out)"
   ]
  },
  {
   "cell_type": "code",
   "execution_count": 27,
   "metadata": {},
   "outputs": [],
   "source": [
    "out = findPatternIdx('ATGATCAAG',txt[0])"
   ]
  },
  {
   "cell_type": "code",
   "execution_count": 28,
   "metadata": {},
   "outputs": [],
   "source": [
    "out=str(out).replace(',','')"
   ]
  },
  {
   "cell_type": "code",
   "execution_count": 29,
   "metadata": {},
   "outputs": [
    {
     "name": "stdout",
     "output_type": "stream",
     "text": [
      "[116556 149355 151913 152013 152394 186189 194276 200076 224527 307692 479770 610980 653338 679985 768828 878903 985368]\n"
     ]
    }
   ],
   "source": [
    "print(out)"
   ]
  },
  {
   "cell_type": "code",
   "execution_count": 30,
   "metadata": {},
   "outputs": [],
   "source": [
    "def findClumps(strInput,k,L,t):\n",
    "    c = []\n",
    "    for i in range(len(strInput)-L+1):\n",
    "        subStr = strInput[i:i+L]\n",
    "        out = findFreqWords(subStr,k)\n",
    "        if (out[1]>=t):\n",
    "            for x in out[0]:\n",
    "                if (c.count(x)==0):\n",
    "                    c.append(x)\n",
    "    return c"
   ]
  },
  {
   "cell_type": "code",
   "execution_count": 31,
   "metadata": {},
   "outputs": [],
   "source": [
    "txt='CGGACTCGACAGATGTGAAGAACGACAATGTGAAGACTCGACACGACAGAGTGAAGAGAAGAGGAAACATTGTAA'"
   ]
  },
  {
   "cell_type": "code",
   "execution_count": 32,
   "metadata": {},
   "outputs": [
    {
     "data": {
      "text/plain": [
       "['CGACA', 'GAAGA']"
      ]
     },
     "execution_count": 32,
     "metadata": {},
     "output_type": "execute_result"
    }
   ],
   "source": [
    "findClumps(txt,5,50,4)"
   ]
  },
  {
   "cell_type": "code",
   "execution_count": 33,
   "metadata": {},
   "outputs": [],
   "source": [
    "filename = '/Users/froux/Documents/Bioinformatics/Week1/dataset_4_5.txt'\n",
    "file = open(filename,'r')\n",
    "txt = file.read()\n",
    "txt = txt.splitlines()"
   ]
  },
  {
   "cell_type": "code",
   "execution_count": 34,
   "metadata": {},
   "outputs": [
    {
     "name": "stdout",
     "output_type": "stream",
     "text": [
      "['CAGTAACGTTAGGGGTCAGTAGAGCTACTCCTGCCTGCGCGTTCGTCTGCGCGTCGACAGTGTAGCAATATCGGGAAAATTAATGGTTTATGTAAAATATGTAAAAATCCTTCTTACCCGGCACTGGTTACTGTGTCCTGGTTGGGAATACGCTTAGGTAGCCTCTCGGTAATAGAGAACAGACCCCGAGGTGTCACGCCCAATTCTGCGTACACCGTTTAACCCCTGCCCGTTCCGGGAGAAGGCTTCACGGTGTGGTATCTCGCATACACGGATCCCACTTTAAGTTCCTAGAGAGCCAAAGGCATGGACACCTCTCAGGACAGACATTACTCATATTCGGACCGAGAGCGAGCGTGTCGGATTGCTGGTGTCTTGCTCGTTGCCAAGCAAGAATCGCCAAGGCTGGCAAGTCCGAAGCAAGTCCGAGTCCGTATTCGGCCTTGATGCAAACGCTGGTGATAGATAGGACTACTGCGCATACTTTTCAAACGTCGGCAGGCAAGCATCTCCCCTCTCGATGGGGCCTACCTCGGGTACTTAATTTGCGAATCCGTCGGTCCGTCGGTTTCTTGTTACCAAAAATAACCTAGCTATGCAGTGCGTTATGCGGGCTTGAGATGACCCTCCAATCGCTTCGGAGATCGCCTTTCATTAAGCCATGATAAGTTCATCGTAGTTCGATGTACCAAACTATTCCGTCAGTGGATTCCTACTGGGCCGCCGCCCCCCCGCCGCCGCCCCCCCGACCCGGATGACCTTAATGGCGTCCGGGCCCGTATTGGGTCAACGCCTTCTACCAAGAGATGACGCTTTTTGGCTAATACCCCCGCTAAATCGTAAGGCCAGAAAAAGCCCAGAAACAGTTTATCCCTGCGTTTTCCGCCTATCAGTAAACGTTCCCATCATGTTATCCCTCTCCGCTCGATTACCGCTCCGGTACGACTTAATGATTCAAGATGCACGATCAAGCTACATCAAGGTCTTGGCACCGAATTGCTACGACTACATTTTACGAACATGGTGACAAAATTTGAACTACTACTCTAAGTTTCTATGATTGAACACTATACTACTCTACACTCAAAAGTACCCTGGGGCAGTGCATGTGATGTGCATGCATGTGATGTGACGGCTGAATTCAAACGTGTCCCATATACAATCCGTGGAGAGACCGCCCACCGCCCGACTGTTCCGACTCTCCTCAGCTACGCTCTGAGCACTCATTAAACATACGATATTCGCTTGTCTACCGGAAGCACTTTTGGTTCATGTACGCTTCTTAGGTGACGACCTTATAAGATGGAGTCCAAGATGGAGGATGGACCAGAACAGACTTGACAAACATCAGTCACCCGTACCTTTGGGCGGACGTCAAAAATCTTTTCGGTTAGACTCCGTAGGGTAGACGATTAACCTATCGGCCTTTCTTGTAATTCTGTTACCATAAAGTAGAGACTAGGAGAGATGAACACTGTCACACGAGAGGGTGCGCCGGGGTTCGTCCGCTAATCCTAGGCAGCTATAAACCGGGCGCGCCCTATACATCGTATAAGGAACAAGTATAAGGAACGAACAACTACAGCGCCATAGGACTTTGCGTGCCCCTGCTTACAGAAAACCATCTTCTAACCATCTAACCATCTCGTTCCGGGGTCATGACAGTAATGCGGGTAATGGAGGGCTCGCGTCACATGGATTGAGGACGCGAGGATTGTCCGGTCGCAC', '8 26 4']\n"
     ]
    }
   ],
   "source": [
    "print(txt)"
   ]
  },
  {
   "cell_type": "code",
   "execution_count": 35,
   "metadata": {},
   "outputs": [
    {
     "data": {
      "text/plain": [
       "[]"
      ]
     },
     "execution_count": 35,
     "metadata": {},
     "output_type": "execute_result"
    }
   ],
   "source": [
    "findClumps(txt[0],8,26,4)"
   ]
  },
  {
   "cell_type": "code",
   "execution_count": 36,
   "metadata": {},
   "outputs": [],
   "source": [
    "filename = '/Users/froux/Documents/Bioinformatics/Week1/E_coli.txt'\n",
    "file = open(filename,'r')\n",
    "txt = file.read()\n",
    "txt = txt.splitlines()"
   ]
  },
  {
   "cell_type": "code",
   "execution_count": 37,
   "metadata": {},
   "outputs": [
    {
     "data": {
      "text/plain": [
       "4639675"
      ]
     },
     "execution_count": 37,
     "metadata": {},
     "output_type": "execute_result"
    }
   ],
   "source": [
    "len(txt[0])"
   ]
  },
  {
   "cell_type": "code",
   "execution_count": 38,
   "metadata": {},
   "outputs": [],
   "source": [
    "#findClumps(txt[0],9,500,3)"
   ]
  },
  {
   "cell_type": "code",
   "execution_count": 39,
   "metadata": {},
   "outputs": [],
   "source": [
    "def compFreqArray(k):\n",
    "    n = pow(4,k)\n",
    "    fa = {}\n",
    "    fa['kmer'] = []\n",
    "    fa['idx'] = list(range(n))\n",
    "    fa['count'] = []\n",
    "    return fa"
   ]
  },
  {
   "cell_type": "code",
   "execution_count": 40,
   "metadata": {},
   "outputs": [
    {
     "data": {
      "text/plain": [
       "{'kmer': [],\n",
       " 'idx': [0, 1, 2, 3, 4, 5, 6, 7, 8, 9, 10, 11, 12, 13, 14, 15],\n",
       " 'count': []}"
      ]
     },
     "execution_count": 40,
     "metadata": {},
     "output_type": "execute_result"
    }
   ],
   "source": [
    "compFreqArray(2)"
   ]
  },
  {
   "cell_type": "code",
   "execution_count": 41,
   "metadata": {},
   "outputs": [],
   "source": [
    "def pat2num(pat):\n",
    "    if (len(pat)==0):\n",
    "        return 0\n",
    "    sym= pat[len(pat)-1]\n",
    "    pre= pat[0:len(pat)-1]\n",
    "    \n",
    "    return 4*pat2num(pre)+sym2num(sym)"
   ]
  },
  {
   "cell_type": "code",
   "execution_count": 42,
   "metadata": {},
   "outputs": [],
   "source": [
    "def sym2num(sym):\n",
    "    if ('A' in sym):\n",
    "        return 0\n",
    "    elif ('C' in sym):\n",
    "        return 1\n",
    "    elif ('G' in sym):\n",
    "        return 2\n",
    "    elif ('T' in sym):\n",
    "        return 3"
   ]
  },
  {
   "cell_type": "code",
   "execution_count": 43,
   "metadata": {},
   "outputs": [
    {
     "data": {
      "text/plain": [
       "11"
      ]
     },
     "execution_count": 43,
     "metadata": {},
     "output_type": "execute_result"
    }
   ],
   "source": [
    "pat2num('AGT')"
   ]
  },
  {
   "cell_type": "code",
   "execution_count": 44,
   "metadata": {},
   "outputs": [
    {
     "data": {
      "text/plain": [
       "6726600640"
      ]
     },
     "execution_count": 44,
     "metadata": {},
     "output_type": "execute_result"
    }
   ],
   "source": [
    "pat2num('CGCAATGTTTACTTAAA')"
   ]
  },
  {
   "cell_type": "code",
   "execution_count": 45,
   "metadata": {},
   "outputs": [
    {
     "data": {
      "text/plain": [
       "912"
      ]
     },
     "execution_count": 45,
     "metadata": {},
     "output_type": "execute_result"
    }
   ],
   "source": [
    "pat2num('ATGCAA')"
   ]
  },
  {
   "cell_type": "code",
   "execution_count": 46,
   "metadata": {},
   "outputs": [],
   "source": [
    "def num2sym(num):\n",
    "    if (num==0):\n",
    "        return 'A'\n",
    "    elif (num==1):\n",
    "        return 'C'\n",
    "    elif (num==2):\n",
    "        return 'G'\n",
    "    elif (num==3):\n",
    "        return 'T'"
   ]
  },
  {
   "cell_type": "code",
   "execution_count": 47,
   "metadata": {},
   "outputs": [],
   "source": [
    "def num2pat(num,k):\n",
    "    if (k==1):\n",
    "        return num2sym(num)\n",
    "    \n",
    "    q = int(num/4) #quotient ie prefixIndex\n",
    "    r= num % 4     # remainder\n",
    "    num=q\n",
    "    sym=num2sym(r)\n",
    "    PrefixPattern = num2pat(q,k-1)\n",
    "        \n",
    "    return PrefixPattern+sym"
   ]
  },
  {
   "cell_type": "code",
   "execution_count": 48,
   "metadata": {},
   "outputs": [
    {
     "data": {
      "text/plain": [
       "'AGT'"
      ]
     },
     "execution_count": 48,
     "metadata": {},
     "output_type": "execute_result"
    }
   ],
   "source": [
    "num2pat(11,3)"
   ]
  },
  {
   "cell_type": "code",
   "execution_count": 49,
   "metadata": {},
   "outputs": [
    {
     "data": {
      "text/plain": [
       "'AGTC'"
      ]
     },
     "execution_count": 49,
     "metadata": {},
     "output_type": "execute_result"
    }
   ],
   "source": [
    "num2pat(45,4)"
   ]
  },
  {
   "cell_type": "code",
   "execution_count": 50,
   "metadata": {},
   "outputs": [
    {
     "data": {
      "text/plain": [
       "'ACCTACAA'"
      ]
     },
     "execution_count": 50,
     "metadata": {},
     "output_type": "execute_result"
    }
   ],
   "source": [
    "num2pat(5904,8)"
   ]
  },
  {
   "cell_type": "code",
   "execution_count": 51,
   "metadata": {},
   "outputs": [
    {
     "data": {
      "text/plain": [
       "'CCCATTC'"
      ]
     },
     "execution_count": 51,
     "metadata": {},
     "output_type": "execute_result"
    }
   ],
   "source": [
    "num2pat(5437, 7)"
   ]
  },
  {
   "cell_type": "code",
   "execution_count": 52,
   "metadata": {},
   "outputs": [
    {
     "data": {
      "text/plain": [
       "'ACCCATTC'"
      ]
     },
     "execution_count": 52,
     "metadata": {},
     "output_type": "execute_result"
    }
   ],
   "source": [
    "num2pat(5437,8)"
   ]
  },
  {
   "cell_type": "code",
   "execution_count": 53,
   "metadata": {},
   "outputs": [],
   "source": [
    "def compFreq(Text,k):\n",
    "    freqAr={}\n",
    "    for i in range(pow(4,k)):\n",
    "        freqAr[i]=0\n",
    "        \n",
    "    for i in range(len(Text)-k+1):   \n",
    "        pattern=Text[i:i+k]\n",
    "        j=pat2num(pattern)\n",
    "        freqAr[j]=freqAr[j]+1\n",
    "        \n",
    "    return list(freqAr.values())"
   ]
  },
  {
   "cell_type": "code",
   "execution_count": 54,
   "metadata": {},
   "outputs": [
    {
     "data": {
      "text/plain": [
       "[2, 1, 0, 0, 0, 0, 2, 2, 1, 2, 1, 0, 0, 1, 1, 0]"
      ]
     },
     "execution_count": 54,
     "metadata": {},
     "output_type": "execute_result"
    }
   ],
   "source": [
    "compFreq('ACGCGGCTCTGAAA',2)"
   ]
  },
  {
   "cell_type": "code",
   "execution_count": 55,
   "metadata": {},
   "outputs": [],
   "source": [
    "# 2 1 0 0 0 0 2 2 1 2 1 0 0 1 1 0"
   ]
  },
  {
   "cell_type": "code",
   "execution_count": 56,
   "metadata": {},
   "outputs": [],
   "source": [
    "filename = '/Users/froux/Documents/Bioinformatics/Week1/dataset_2994_5.txt'\n",
    "file = open(filename,'r')\n",
    "txt = file.read()\n",
    "txt = txt.splitlines()"
   ]
  },
  {
   "cell_type": "code",
   "execution_count": 57,
   "metadata": {},
   "outputs": [],
   "source": [
    "out = compFreq(txt[0],int(txt[1]))"
   ]
  },
  {
   "cell_type": "code",
   "execution_count": 58,
   "metadata": {},
   "outputs": [
    {
     "data": {
      "text/plain": [
       "'[0 1 0 0 1 1 0 0 0 1 0 0 0 1 0 0 0 0 2 0 0 0 1 0 0 1 0 1 0 0 0 0 0 0 0 0 0 1 1 1 0 0 0 0 0 0 0 0 0 1 0 0 0 0 1 0 0 0 1 2 0 0 0 1 0 0 0 0 0 0 0 0 1 0 1 1 0 0 0 0 0 0 0 1 0 0 0 1 2 0 0 0 1 0 2 0 1 0 0 0 0 0 0 1 0 0 0 0 0 0 1 0 1 0 2 0 0 0 1 0 0 0 0 0 0 0 0 2 0 0 0 0 0 0 0 0 0 0 0 0 0 0 0 0 0 0 0 0 0 0 1 0 0 1 1 0 1 0 1 0 0 1 0 1 1 0 1 0 0 0 0 0 0 1 1 0 0 0 0 0 0 0 0 1 0 0 0 0 0 0 0 0 0 0 0 0 0 2 0 1 0 0 0 0 0 0 0 0 0 0 0 0 0 0 0 0 0 0 0 1 0 0 0 0 1 0 0 1 0 0 0 0 1 0 0 0 1 0 2 0 0 0 0 0 0 0 0 0 0 0 0 0 0 1 0 0 0 1 0 0 0 0 0 2 0 0 0 0 0 0 0 0 0 0 0 0 0 0 0 0 0 0 1 1 0 0 0 0 0 1 0 0 0 1 0 0 0 0 1 1 1 0 0 0 0 0 0 0 0 0 1 1 1 0 0 0 0 0 0 1 0 1 0 0 1 0 0 0 0 0 0 0 0 0 1 0 0 0 0 0 0 0 0 0 0 0 0 0 0 0 1 0 0 0 2 0 0 0 0 0 1 0 0 0 1 0 0 0 1 0 0 1 0 0 0 0 0 0 0 2 0 0 0 0 1 0 0 0 1 0 0 0 0 0 0 0 0 0 0 0 0 0 0 0 0 0 0 0 1 1 0 0 0 0 0 1 0 0 0 0 0 0 1 0 0 1 0 0 0 1 0 0 1 0 0 1 0 0 0 0 1 1 0 1 0 0 0 1 0 1 0 0 0 0 0 0 1 0 0 1 0 0 0 0 0 0 0 0 1 0 0 0 0 0 2 0 1 0 1 0 0 0 0 1 0 1 0 0 0 1 0 0 0 0 1 0 0 0 1 0 0 0 0 0 0 1 0 0 0 2 0 0 0 0 0 0 0 0 0 0 0 0 1 0 0 0 0 0 0 1 0 1 0 0 0 0 0 0 0 1 0 0 1 0 0 1 0 0 0 0 0 0 0 0 1 0 0 0 0 0 0 0 0 0 0 0 0 0 0 0 0 1 0 0 0 0 0 0 0 1 0 0 0 0 0 0 0 0 1 0 0 1 0 1 0 1 0 0 1 2 0 0 1 0 0 0 0 0 0 0 0 0 1 0 0 0 0 0 1 0 0 0 0 0 0 1 0 0 0 0 0 0 1 1 1 0 0 0 1 0 0 0 0 0 0 1 1 1 0 0 0 0 1 0 0 0 0 0 1 0 0 1 0 1 0 1 0 1 0 0 0 0 0 0 0 0 0 1 0 0 0 1 0 0 0 0 0 0 0 0 0 0 0 0 0 2 1 0 0 0 0 0 0 0 1 0 0 0 1 0 0 0 0 0 0 0 0 0 0 0 0 0 0 0 0 0 0 1 0 0 0 0 0 0 1 0 0 0 0 0 0 0 0 0 0 0 1 0 0 1 0 0 1 0 0 0 0 0 0 0 0 0 2 0 0 1 0 0 1 0 0 1 0 0 0 0 0 0 0 0 1 0 0 0 0 0 0 0 1 0 0 1 1 0 0 0 0 0 0 1 0 0 1 0 1 0 0 1 0 0 0 0 0 0 0 2 0 1 2 0 0 0 0 0 0 0 0 0 0 0 0 0 0 0 0 0 0 0 0 0 0 0 0 0 0 0 0 0 0 0 0 0 0 0 0 0 0 0 0 0 0 0 0 1 0 1 0 0 0 0 0 0 1 0 0 1 0 1 0 0 0 1 0 0 0 0 0 0 0 0 0 0 0 0 0 0 0 1 0 0 0 0 1 0 0 0 0 0 0 0 1 0 1 0 0 0 0 0 0 0 1 0 0 0 0 0 0 0 0 1 0 0 0 0 0 0 0 0 0 0 0 0 0 0 2 0 0 0 0 0 0 0 0 2 0 0 0 0 0 0 1 0 0 0 0 0 0 0 1 0 1 0 0 0 0 0 0 0 1 0 0 0 0 0 0 0 0 0 0 0 0 0 0 1 0 0 0 0 0 0 0 0 0 0 0 0 0 0 0 0 0 0 0 0 0 2 1 0 0 0 0 0 0 0 0 1 0 0 1 0 2 0 0 0 0 0 0 0 0 0 0 0 1 0 1 1 0 0 0 0 0 0 2 0 0 1 0 0 0 0 0 0 0 0 0 0 0 1 0 0 0 0 0 0 0 0 0 0 0 0 2 0 0 0 0 0 0 0 0 2 0 0 0 0 0 0 0 1 1 0 0 1 0 1 1 0 0 0 0 0 0 0 0 0 0 0 0 0 0 0 0 0 0 0 0 0 1 0 0 1 1 0 0 0 1 0 0 0 0 0 0 0 0 0 0 0 0 1 0 0 0 0 0 0 0 0 1 0 0 0 0 0 0 0 0 0 1 0 0 0 0 1 0 2 0 0 0 0 0 0 0 0 0 0 0 0 0 0 0 0 1 0 0 0 1 0 0 1 0 0 1 1 0 0 0 1 0 0 0 0 0 0 0 0 1 0 2 0 0 0 0 0 0 0 0 1 0 0 1 0 0 0 0 0 0 0 0 0 0 1 1 0 0 0 1 0 0 0 0 1 0 0 0 0 1 0 0 0 0 0 0 0 0 0 0 0 1 0 0 0 0 0 1 0 0 0 0 1 0 0 1 1 0 0 1 1 0 1 0 0 1 0 0 0 0 0 1 0 1 1 1 0 0 0 0 1 0 0 0 0 0 0 0 0 0 0 0 1 0 0 0 1 0 0 0 0 0 0 0 0 1 0 0 0 0 0 0 1 0 0 1 0 0 0 0 0 0 0 0 0 1 0 0 0 1 0 0 0 0 0 0 1 0 0 0 0 0 0 0 0 0 0 0 0 0 0 2 0 0 0 0 0 0 0 0 0 1 0 0 0 0 0 0 0 0 0 0 0 0 0 0 0 0 1 0 0 1 1 0 1 0 1 0 0 0 0 0 1 1 0 0 0 0 0 0 0 0 0 0 0 1 0 0 0 0 0 0 0 0 1 2 0 0 0 0 0 0 0 0 0 1 0 0 0 0 0 0 1 0 0 0 0 0 0 0 0 0 0 0 0 0 0 0 1 1 0 0 0 0 1 0 0 0 0 0 0 0 1 0 0 0 1 0 0 0 0 0 0 0 0 0 0 0 0 0 0 0 0 0 0 0 0 0 0 0 0 0 0 2 1 0 0 0 0 0 1 0 0 2 0 0 0 1 1 0 0 0 0 1 1 0 2 0 0 0 0 0 0 0 0 1 0 0 1 0 0 0 0 0 0 0 0 0 1 0 0 0 0 0 0 0 0 0 0 0 2 1 0 0 0 0 0 0 0 0 0 0 0 0 0 0 0 0 0 0 0 0 0 0 1 0 0 0 0 1 0 0 1 0 0 0 0 0 0 0 0 0 1 0 0 0 0 0 0 0 1 0 0 0 0 0 0 0 0 0 1 0 1 0 0 0 0 0 0 0 1 0 0 0 0 0 0 0 1 0 0 0 0 0 0 1 0 1 0 0 1 1 0 0 0 0 0 0 0 1 0 0 0 0 0 0 0 0 0 0 1 0 0 1 0 0 0 0 0 1 1 0 0 1 0 1 0 1 0 1 1 0 0 0 0 0 0 0 0 0 0 0 1 0 1 0 1 0 0 0 0 0 0 0 0 1 0 0 0 0 1 0 0 0 0 1 0 0 1 0 0 0 0 1 0 0 0 0 0 0 0 0 0 0 1 0 0 1 0 0 1 0 0 0 0 0 0 1 0 0 0 0 0 0 0 0 1 0 0 0 0 0 0 1 0 0 0 0 0 0 1 0 2 0 1 0 0 1 0 0 0 0 0 0 0 0 0 0 0 0 0 0 0 0 0 0 2 1 1 0 0 1 0 0 0 0 0 0 0 0 0 0 0 1 0 0 0 0 0 0 0 1 0 0 0 0 0 1 0 0 0 0 1 0 0 0 0 1 0 0 0 0 0 1 0 0 0 1 0 0 0 0 0 1 0 0 0 0 0 0 0 0 0 0 0 0 0 0 0 0 0 0 2 0 0 0 0 0 0 0 0 0 1 0 0 0 0 0 0 1 0 0 0 0 0 0 0 1 1 0 0 0 0 0 0 0 0 1 1 0 0 0 0 1 0 0 0 0 2 0 0 0 0 0 1 0 0 0 0 0 0 0 0 0 1 0 0 0 1 0 0 1 0 0 0 0 0 1 0 0 0 0 2 0 1 0 0 0 1 0 0 0 0 0 0 0 0 0 1 0 1 0 0 0 0 0 0 0 0 0 1 0 0 0 1 2 0 0 0 0 0 2 1 0 0 0 0 0 1 0 0 1 0 0 0 1 0 0 0 0 1 1 0 1 1 0 0 0 0 0 0 0 0 0 0 0 1 0 0 0 0 0 1 0 0 0 0 1 0 0 0 0 0 0 0 1 1 1 0 0 0 0 1 0 0 0 0 0 0 0 0 0 1 1 1 0 1 0 1 0 0 0 1 0 0 0 0 0 0 0 0 0 1 0 0 0 0 0 0 0 0 0 0 2 0 0 0 0 0 0 1 1 0 0 0 0 0 0 0 0 0 0 0 1 1 0 0 0 0 0 0 0 0 0 0 1 0 0 0 0 1 2 0 1 1 0 0 0 0 0 0 1 0 0 1 1 0 0 0 0 0 0 0 0 0 1 0 0 1 0 0 0 0 0 0 0 0 0 0 0 1 1 0 0 0 0 0 0 0 0 0 2 0 0 2 0 0 0 1 0 0 0 1 0 0 0 0 0 0 0 0 0 0 0 0 0 0 0 0 0 0 1 0 0 0 0 0 0 1 0 0 0 0 0 0 0 0 1 0 0 0 0 0 0 0 0 0 0 0 0 0 1 0 0 0 0 0 0 0 0 0 1 0 0 0 0 0 0 0 1 0 0 0 1 0 0 0 0 0 0 0 0 0 0 0 0 0 1 0 0 0 0 0 0 0 0 0 0 0 0 0 0 0 2 0 1 0 0 0 0 0 0 0 0 0 0 0 0 0 1 0 0 0 0 0 1 0 0 0 0 0 0 0 1 1 0 1 1 0 0 1 0 0 0 0 0 0 0 0 0 0 1 0 0 1 1 0 2 0 0 0 0 1 0 0 0 0 0 1 0 0 0 0 1 0 0 0 1 0 1 0 0 0 0 2 0 0 0 0 0 1 0 1 1 0 0 0 0 0 0 0 0 1 0 0 1 0 0 0 0 0 0 0 0 0 1 1 1 1 0 0 0 0 0 0 0 0 0 0 0 0 0 1 0 1 0 0 1 0 0 0 0 0 0 1 0 1 0 0 0 0 0 0 0 0 0 0 1 0 1 0 0 0 0 0 0 0 0 1 0 1 0 0 0 0 0 0 0 0 0 0 0 0 0 0 0 0 0 1 0 0 0 0 0 0 0 0 0 1 0 0 0 1 0 0 0 0 0 0 0 0 0 0 2 0 0 1 1 1 0 0 0 0 0 1 0 0 0 0 0 0 1 0 0 0 1 0 1 0 0 1 0 0 0 0 0 0 0 0 0 0 1 0 0 1 1 0 0 0 0 0 0 0 0 0 0 0 2 0 0 0 0 2 0 0 1 0 0 0 0 0 1 0 0 0 1 0 0 0 0 0 0 1 1 0 0 0 0 0 0 0 0 0 0 0 0 0 0 0 0 0 0 0 0 0 0 0 0 1 0 2 0 0 0 0 1 0 0 0 0 1 1 0 0 0 0 0 1 0 0 0 1 0 0 0 0 0 1 1 0 0 1 0 1 0 0 0 0 0 0 0 1 0 0 0 1 0 0 0 0 1 0 0 0 0 0 0 0 1 0 0 0 1 0 0 0 0 0 0 0 0 2 0 1 0 0 0 0 1 1 0 0 0 0 0 0 1 0 0 1 0 1 0 0 0 0 0 0 0 1 0 0 0 0 0 0 1 0 0 0 0 0 1 0 1 0 0 0 0 0 0 0 0 0 0 0 0 0 0 0 0 0 0 0 0 0 0 2 0 0 0 0 0 0 0 1 0 1 1 0 1 0 1 0 1 0 0 0 0 0 0 0 0 1 1 0 0 0 0 0 0 1 0 0 0 0 0 0 0 0 0 0 0 1 1 0 0 0 1 0 1 0 0 0 0 0 0 1 0 0 0 0 0 0 0 0 0 0 0 0 1 0 0 0 0 0 0 0 1 0 0 0 0 0 0 0 0 0 0 0 0 1 1 0 0 0 0 0 0 0 0 0 1 0 0 0 0 0 0 1 0 0 0 0 0 0 0 0 0 0 0 2 1 0 0 0 0 0 0 0 0 0 0 1 0 0 0 0 0 0 0 0 0 0 0 0 0 0 0 0 0 0 0 2 0 0 0 0 0 0 0 0 1 0 1 0 1 1 0 0 0 0 0 1 0 0 0 1 1 0 0 0 0 0 1 0 0 0 1 2 0 1 1 0 0 0 0 0 0 1 0 1 0 0 0 0 0 0 0 0 0 1 0 0 0 0 0 0 0 1 1 0 0 0 1 0 0 1 0 1 0 0 0 1 0 1 0 0 0 0 0 0 0 0 0 0 0 0 0 0 0 0 0 1 0 0 0 0 0 1 0 0 0 0 0 0 0 0 0 0 0 0 0 1 0 0 1 0 0 0 0 0 0 1 0 1 0 1 0 0 0 0 0 0 0 0 0 1 0 1 0 0 0 0 0 0 1 0 0 1 0 2 1 0 0 0 0 0 0 0 2 0 0 0 0 1 0 0 1 0 0 0 0 0 0 1 0 1 1 0 0 0 0 0 0 0 1 0 0 0 0 0 0 0 0 0 0 0 0 0 0 1 0 0 0 0 0 0 0 0 0 0 0 0 0 0 0 0 1 0 0 0 0 0 0 0 0 0 0 1 0 0 0 0 1 0 0 0 0 0 0 0 0 0 0 0 0 0 0 0 0 0 0 0 1 0 2 1 0 0 0 1 0 1 0 0 0 1 0 0 0 1 0 1 0 1 0 0 0 0 0 1 0 0 0 1 1 0 0 0 0 0 0 0 0 0 1 0 0 0 0 0 1 0 0 0 0 0 0 0 0 0 0 0 0 0 0 0 0 0 0 0 0 1 1 0 0 1 1 0 0 0 0 0 0 1 0 1 1 0 2 1 0 0 0 0 0 0 0 0 0 0 0 0 0 1 0 0 0 0 0 0 0 0 0 0 0 0 0 0 0 0 0 0 0 0 0 0 0 1 0 1 0 0 0 0 0 0 0 0 0 0 0 0 0 0 0 0 1 0 0 0 0 0 0 0 0 0 0 0 0 1 1 0 0 0 0 0 0 1 0 0 0 0 0 0 0 0 1 0 0 0 0 0 0 0 0 0 0 0 0 1 0 0 0 0 1 0 0 0 0 0 0 0 0 0 0 2 1 0 0 0 1 0 0 0 0 0 0 1 0 0 0 0 0 1 0 0 0 0 0 1 0 0 0 0 0 0 0 0 0 0 0 0 0 0 0 0 0 0 0 0 0 0 0 1 0 0 0 0 0 0 0 0 0 0 0 0 1 0 0 0 0 0 0 0 0 1 0 0 1 0 0 0 0 0 0 0 1 0 0 0 0 0 0 0 0 0 0 0 0 0 0 0 0 1 0 0 1 0 2 0 1 0 0 0 1 1 0 0 0 0 0 0 0 0 1 0 0 0 0 0 1 0 0 1 1 0 0 0 0 0 2 0 0 0 0 0 1 0 0 1 0 0 0 0 0 0 0 0 0 0 0 0 0 0 0 0 0 0 0 0 0 0 1 0 0 1 0 0 1 0 0 0 0 0 0 0 0 2 0 0 0 1 0 0 0 0 0 1 0 0 0 0 0 0 1 0 0 1 1 1 0 0 0 0 0 0 1 0 0 0 0 0 1 1 0 0 1 0 0 0 1 0 0 0 1 0 0 0 1 0 0 0 0 0 0 0 0 0 1 0 0 1 0 0 1 0 0 1 0 0 0 0 0 0 1 0 0 0 0 0 0 0 1 1 0 0 0 1 0 1 0 0 0 0 0 0 1 0 0 0 1 0 2 1 0 0 0 0 0 0 0 0 0 0 0 0 0 0 0 0 0 0 0 1 0 0 0 1 1 0 0 0 0 0 0 0 0 1 0 0 0 1 0 0 0 0 1 0 0 0 0 0 0 0 0 0 0 0 0 0 0 0 0 0 1 0 0 0 0 0 0 0 0 0 0 0 0 0 1 0 1 0 1 0 0 0 0 0 0 0 0 1 0 0 1 0 0 0 0 1 1 0 0 0 0 0 0 0 1 0 0 1 0 0 0 0 1 0 0 0 0 0 0 0 0 0 0 1 0 0 0 0 0 1 0 1 2 0 1 1 0 0 0 1 0 0 0 1 0 0 0 0 0 0 0 0 0 0 0 0 1 0 0 1 0 0 1 0 0 0 0 0 0 1 0 0 0 0 0 0 0 0 0 0 0 0 0 0 0 0 0 0 0 0 0 1 1 0 0 0 1 0 0 0 1 0 0 0 0 1 0 0 0 1 0 0 0 0 0 0 0 0 0 0 0 0 0 0 0 0 0 1 0 0 0 1 0 0 0 0 1 0 0 0 0 0 1 1 0 0 0 0 0 0 0 0 0 0 0 0 0 1 0 1 0 0 0 0 1 1 1 0 0 0 1 0 1 0 0 1 0 0 0 0 0 0 0 0 1 0 0 1 0 1 0 0 0 1 1 0 0 1 0 0 0 0 0 0 0 0 0 0 0 0 0 0 0 0 0 0 0 1 0 0 0 1 0 0 0 0 0 0 0 0 1 0 0 1 0 0 0 0 0 0 0 0 0 1 0 0 0 0 0 0 0 0 0 0 0 0 0 0 0 1 0 0 0 1 0 0 0 0 1 0 1 0 0 0 0 1 0 0 1 1 1 0 1 0 0 1 0 0 0 0 0 0 0 0 0 0 0 0 0 0 0 0 0 0 0 0 0 0 0 0 0 0 0 0 0]'"
      ]
     },
     "execution_count": 58,
     "metadata": {},
     "output_type": "execute_result"
    }
   ],
   "source": [
    "str(out).replace(',','')"
   ]
  },
  {
   "cell_type": "code",
   "execution_count": 59,
   "metadata": {},
   "outputs": [],
   "source": [
    "def fastFreqWords(Text,k):\n",
    "    freqPat = []\n",
    "    freqAr = compFreq(Text,k)\n",
    "    mC = max(freqAr)\n",
    "    for i in range(pow(4,k)):\n",
    "        if (freqAr[i] == mC):\n",
    "            pat = num2pat(i,k)\n",
    "            freqPat.append(pat)\n",
    "            \n",
    "    return freqPat"
   ]
  },
  {
   "cell_type": "code",
   "execution_count": 143,
   "metadata": {},
   "outputs": [],
   "source": [
    "def BetterClumpFinding(Genome, k, t, L):\n",
    "    \n",
    "    FrequentPatterns = []\n",
    "    clump=[]\n",
    "    \n",
    "    for i in range(0,pow(4,k)):\n",
    "        clump.append(0)\n",
    "    \n",
    "    txt =Genome[0:L]\n",
    "    freqArray=compFreq(txt,k)\n",
    "    \n",
    "    for i in range(0,pow(4,k)):\n",
    "        if (freqArray[i]>=t):\n",
    "            clump[i]=1\n",
    "    \n",
    "    for i in range(1,len(Genome)-L+1):\n",
    "        firstPat=Genome[(i-1):((i-1)+k)]\n",
    "        idx=pat2num(firstPat)\n",
    "        freqArray[idx] =freqArray[idx]-1\n",
    "        lastPat=Genome[(i+L-k):((i+L-k)+k)]\n",
    "        idx=pat2num(lastPat)\n",
    "        freqArray[idx] =freqArray[idx]+1\n",
    "        if (freqArray[idx]>=t):\n",
    "            clump[idx]=1\n",
    "            \n",
    "    for i in range(0,pow(4,k)):\n",
    "        if (clump[i]==1):\n",
    "            pat = num2pat(i,k)\n",
    "            FrequentPatterns.append(pat)\n",
    "            \n",
    "    return FrequentPatterns"
   ]
  },
  {
   "cell_type": "code",
   "execution_count": 144,
   "metadata": {},
   "outputs": [
    {
     "name": "stdout",
     "output_type": "stream",
     "text": [
      "4639675\n"
     ]
    }
   ],
   "source": [
    "filename = '/Users/froux/Documents/Bioinformatics/Week1/E_coli.txt'\n",
    "file = open(filename,'r')\n",
    "txt = file.read()\n",
    "txt = txt.splitlines()\n",
    "print(len(txt[0]))"
   ]
  },
  {
   "cell_type": "code",
   "execution_count": 146,
   "metadata": {},
   "outputs": [],
   "source": [
    "#BetterClumpFinding(Genome, k, t, L)\n",
    "out = BetterClumpFinding(txt[0], 9, 3, 500)"
   ]
  },
  {
   "cell_type": "code",
   "execution_count": 147,
   "metadata": {},
   "outputs": [
    {
     "name": "stdout",
     "output_type": "stream",
     "text": [
      "1904\n"
     ]
    }
   ],
   "source": [
    "print(len(out))"
   ]
  },
  {
   "cell_type": "code",
   "execution_count": null,
   "metadata": {},
   "outputs": [],
   "source": []
  }
 ],
 "metadata": {
  "kernelspec": {
   "display_name": "Python 3",
   "language": "python",
   "name": "python3"
  },
  "language_info": {
   "codemirror_mode": {
    "name": "ipython",
    "version": 3
   },
   "file_extension": ".py",
   "mimetype": "text/x-python",
   "name": "python",
   "nbconvert_exporter": "python",
   "pygments_lexer": "ipython3",
   "version": "3.7.4"
  }
 },
 "nbformat": 4,
 "nbformat_minor": 2
}
